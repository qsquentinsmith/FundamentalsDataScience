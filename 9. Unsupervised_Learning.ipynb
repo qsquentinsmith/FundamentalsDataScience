{
  "nbformat": 4,
  "nbformat_minor": 0,
  "metadata": {
    "kernelspec": {
      "display_name": "Python 3",
      "language": "python",
      "name": "python3"
    },
    "language_info": {
      "codemirror_mode": {
        "name": "ipython",
        "version": 3
      },
      "file_extension": ".py",
      "mimetype": "text/x-python",
      "name": "python",
      "nbconvert_exporter": "python",
      "pygments_lexer": "ipython3",
      "version": "3.7.4"
    },
    "colab": {
      "name": "Unsupervised_Learning.ipynb",
      "provenance": [],
      "collapsed_sections": [
        "gzfVI1LTeqEL",
        "lY8QExBgeqEM",
        "1C7aI0w6eqEM",
        "4KQVNatHeqEN",
        "oCVuOX_SeqEN",
        "mlUHdjFVeqEO",
        "uOgoprBmeqEP",
        "pLuEn1sueqEP",
        "rpRlMJP9eqEV",
        "fR_pgR2weqEX"
      ]
    }
  },
  "cells": [
    {
      "cell_type": "markdown",
      "metadata": {
        "id": "AyigUW4YeqD5"
      },
      "source": [
        "# Lab 9\n",
        "### Author: Quentin Smith\n",
        "### Due Date: 3/31"
      ]
    },
    {
      "cell_type": "markdown",
      "metadata": {
        "id": "ZAugGZSaeqEA"
      },
      "source": [
        "## 1. Overview"
      ]
    },
    {
      "cell_type": "markdown",
      "metadata": {
        "id": "_OLezf50eqEB"
      },
      "source": [
        "#### Obejctive: \n",
        "Compare two clustering models for same dataset in Python and evaluate and interpret models. "
      ]
    },
    {
      "cell_type": "markdown",
      "metadata": {
        "id": "o8TUZ9nJeqEB"
      },
      "source": [
        "**Background:**\n",
        "\n",
        "**Clustering** is an unsupervised learning process of dividing the entire data into groups (also known as clusters) based on patterns in the data [1]. \n",
        "\n",
        "**Evaluation Metrics for clustering:**\n",
        "\n",
        "Two ways to evaluate how well the clustering have been divided are Inertia and Dunn Index:\n",
        "\n",
        "1. **Inertia** tells us the sum of how far the points within a cluster are from the centroid of that cluster. The lower the inertia number the better the clusters are. \n",
        "\n",
        "2. The **Dunn Index** takes into the account the distance between two clusters. It is the ratio between the minimum inter cluster distance over the max intra cluster distance. The higher the inter-cluster distance the better the clusters are\n",
        "\n",
        "**K-Means Clustering:**\n",
        "\n",
        "K-Means Clustering tries to minimize the distance of the points in a cluster with their centroid. There are a few challenges when implementing this algorithm. Density differnces and size differences between clusters is a challenge to K-Means. A solution to this is to use a higher number of clusters, but this rasises a question of exactly what should we pick for our K value and where should we initiate the centoid to be?\n",
        "\n",
        "**K-Means++** is a way to initialize the centroids of the cluster to improve clusters. This process is computationally costsly relative to random initialization. \n",
        "\n",
        "How do we pick the right amount of clusters? The highest amount of clusters we can choose is equal to the number of observations in the dataset. We can graph the inertia based on the clusters from 1 to the max amount of clusters and use the **elbow method** in deciding how many clusters we choose. To determine the optimal number of clusters, we have to select the value of k at the “elbow” ie the point after which the distortion/inertia start decreasing in a linear fashion [2]. \n",
        "\n",
        "**Agglomerative Hierarchical Clustering** is a way to build a heirarchy of clusters by using the closest pair at each iteration until a single cluster is left. The heirarchical structure can be shown using a dendrogram. The longer a line is vertical the more different it is. The number of clusters is determined by giving intersecting vertical lines of a dendrogram with a threshold line [3]. \n",
        "\n",
        "**Density-based spatial clustering of application with noise (DBSCAN)** groups together points that are close to each other based on a distance measurement and a minimum number of points. It also marks the points in low-density regions as outliers [4]. \n",
        "\n",
        "\n",
        "**Resources:**\n",
        "1. https://www.analyticsvidhya.com/blog/2019/08/comprehensive-guide-k-means-clustering/\n",
        "2. https://www.geeksforgeeks.org/elbow-method-for-optimal-value-of-k-in-kmeans/\n",
        "3. https://www.analyticsvidhya.com/blog/2019/05/beginners-guide-hierarchical-clustering/\n",
        "4. https://towardsdatascience.com/how-dbscan-works-and-why-should-i-use-it-443b4a191c80"
      ]
    },
    {
      "cell_type": "markdown",
      "metadata": {
        "id": "qh66pECceqEC"
      },
      "source": [
        "## 2. Data"
      ]
    },
    {
      "cell_type": "markdown",
      "metadata": {
        "id": "ACzqk-cjeqED"
      },
      "source": [
        "**Data Overview:**\n",
        "\n",
        "The data describes customer data of a wholesale grocery store distributer in Portugal. It includes the annual spending in monetary units (m.u.) on diverse product categories. \n",
        "\n",
        "Attribute Information:\n",
        "\n",
        "1. FRESH: annual spending (m.u.) on fresh products (Continuous);\n",
        "2. MILK: annual spending (m.u.) on milk products (Continuous);\n",
        "3. GROCERY: annual spending (m.u.)on grocery products (Continuous);\n",
        "4. FROZEN: annual spending (m.u.)on frozen products (Continuous)\n",
        "5. DETERGENTS_PAPER: annual spending (m.u.) on detergents and paper products (Continuous)\n",
        "6. DELICATESSEN: annual spending (m.u.)on and delicatessen products (Continuous);\n",
        "7. CHANNEL: Channel - Horeca (Hotel/Restaurant/Cafe) or Retail channel (Nominal)\n",
        "8. REGION: Region “Lisnon, Oporto or Other\" (Nominal)\n",
        "\n",
        "**Data Resource:**\n",
        "\n",
        "https://archive.ics.uci.edu/ml/datasets/wholesale+customers\n",
        "\n",
        "Direct Link: https://archive.ics.uci.edu/ml/machine-learning-databases/00292/Wholesale%20customers%20data.csv"
      ]
    },
    {
      "cell_type": "code",
      "metadata": {
        "id": "ESMwNGvGeqED"
      },
      "source": [
        "# importing required libraries\n",
        "import pandas as pd\n",
        "import numpy as np\n",
        "import matplotlib.pyplot as plt\n",
        "%matplotlib inline\n",
        "from sklearn.cluster import KMeans"
      ],
      "execution_count": 1,
      "outputs": []
    },
    {
      "cell_type": "code",
      "metadata": {
        "id": "b8CvcgyaeqEE",
        "outputId": "22a5189e-6ee9-4647-db9a-a278fdcebfed",
        "colab": {
          "base_uri": "https://localhost:8080/",
          "height": 669
        }
      },
      "source": [
        "# import data\n",
        "df = pd.read_csv(\"https://archive.ics.uci.edu/ml/machine-learning-databases/00292/Wholesale%20customers%20data.csv\")\n",
        "df.head(20)"
      ],
      "execution_count": 2,
      "outputs": [
        {
          "output_type": "execute_result",
          "data": {
            "text/html": [
              "<div>\n",
              "<style scoped>\n",
              "    .dataframe tbody tr th:only-of-type {\n",
              "        vertical-align: middle;\n",
              "    }\n",
              "\n",
              "    .dataframe tbody tr th {\n",
              "        vertical-align: top;\n",
              "    }\n",
              "\n",
              "    .dataframe thead th {\n",
              "        text-align: right;\n",
              "    }\n",
              "</style>\n",
              "<table border=\"1\" class=\"dataframe\">\n",
              "  <thead>\n",
              "    <tr style=\"text-align: right;\">\n",
              "      <th></th>\n",
              "      <th>Channel</th>\n",
              "      <th>Region</th>\n",
              "      <th>Fresh</th>\n",
              "      <th>Milk</th>\n",
              "      <th>Grocery</th>\n",
              "      <th>Frozen</th>\n",
              "      <th>Detergents_Paper</th>\n",
              "      <th>Delicassen</th>\n",
              "    </tr>\n",
              "  </thead>\n",
              "  <tbody>\n",
              "    <tr>\n",
              "      <th>0</th>\n",
              "      <td>2</td>\n",
              "      <td>3</td>\n",
              "      <td>12669</td>\n",
              "      <td>9656</td>\n",
              "      <td>7561</td>\n",
              "      <td>214</td>\n",
              "      <td>2674</td>\n",
              "      <td>1338</td>\n",
              "    </tr>\n",
              "    <tr>\n",
              "      <th>1</th>\n",
              "      <td>2</td>\n",
              "      <td>3</td>\n",
              "      <td>7057</td>\n",
              "      <td>9810</td>\n",
              "      <td>9568</td>\n",
              "      <td>1762</td>\n",
              "      <td>3293</td>\n",
              "      <td>1776</td>\n",
              "    </tr>\n",
              "    <tr>\n",
              "      <th>2</th>\n",
              "      <td>2</td>\n",
              "      <td>3</td>\n",
              "      <td>6353</td>\n",
              "      <td>8808</td>\n",
              "      <td>7684</td>\n",
              "      <td>2405</td>\n",
              "      <td>3516</td>\n",
              "      <td>7844</td>\n",
              "    </tr>\n",
              "    <tr>\n",
              "      <th>3</th>\n",
              "      <td>1</td>\n",
              "      <td>3</td>\n",
              "      <td>13265</td>\n",
              "      <td>1196</td>\n",
              "      <td>4221</td>\n",
              "      <td>6404</td>\n",
              "      <td>507</td>\n",
              "      <td>1788</td>\n",
              "    </tr>\n",
              "    <tr>\n",
              "      <th>4</th>\n",
              "      <td>2</td>\n",
              "      <td>3</td>\n",
              "      <td>22615</td>\n",
              "      <td>5410</td>\n",
              "      <td>7198</td>\n",
              "      <td>3915</td>\n",
              "      <td>1777</td>\n",
              "      <td>5185</td>\n",
              "    </tr>\n",
              "    <tr>\n",
              "      <th>5</th>\n",
              "      <td>2</td>\n",
              "      <td>3</td>\n",
              "      <td>9413</td>\n",
              "      <td>8259</td>\n",
              "      <td>5126</td>\n",
              "      <td>666</td>\n",
              "      <td>1795</td>\n",
              "      <td>1451</td>\n",
              "    </tr>\n",
              "    <tr>\n",
              "      <th>6</th>\n",
              "      <td>2</td>\n",
              "      <td>3</td>\n",
              "      <td>12126</td>\n",
              "      <td>3199</td>\n",
              "      <td>6975</td>\n",
              "      <td>480</td>\n",
              "      <td>3140</td>\n",
              "      <td>545</td>\n",
              "    </tr>\n",
              "    <tr>\n",
              "      <th>7</th>\n",
              "      <td>2</td>\n",
              "      <td>3</td>\n",
              "      <td>7579</td>\n",
              "      <td>4956</td>\n",
              "      <td>9426</td>\n",
              "      <td>1669</td>\n",
              "      <td>3321</td>\n",
              "      <td>2566</td>\n",
              "    </tr>\n",
              "    <tr>\n",
              "      <th>8</th>\n",
              "      <td>1</td>\n",
              "      <td>3</td>\n",
              "      <td>5963</td>\n",
              "      <td>3648</td>\n",
              "      <td>6192</td>\n",
              "      <td>425</td>\n",
              "      <td>1716</td>\n",
              "      <td>750</td>\n",
              "    </tr>\n",
              "    <tr>\n",
              "      <th>9</th>\n",
              "      <td>2</td>\n",
              "      <td>3</td>\n",
              "      <td>6006</td>\n",
              "      <td>11093</td>\n",
              "      <td>18881</td>\n",
              "      <td>1159</td>\n",
              "      <td>7425</td>\n",
              "      <td>2098</td>\n",
              "    </tr>\n",
              "    <tr>\n",
              "      <th>10</th>\n",
              "      <td>2</td>\n",
              "      <td>3</td>\n",
              "      <td>3366</td>\n",
              "      <td>5403</td>\n",
              "      <td>12974</td>\n",
              "      <td>4400</td>\n",
              "      <td>5977</td>\n",
              "      <td>1744</td>\n",
              "    </tr>\n",
              "    <tr>\n",
              "      <th>11</th>\n",
              "      <td>2</td>\n",
              "      <td>3</td>\n",
              "      <td>13146</td>\n",
              "      <td>1124</td>\n",
              "      <td>4523</td>\n",
              "      <td>1420</td>\n",
              "      <td>549</td>\n",
              "      <td>497</td>\n",
              "    </tr>\n",
              "    <tr>\n",
              "      <th>12</th>\n",
              "      <td>2</td>\n",
              "      <td>3</td>\n",
              "      <td>31714</td>\n",
              "      <td>12319</td>\n",
              "      <td>11757</td>\n",
              "      <td>287</td>\n",
              "      <td>3881</td>\n",
              "      <td>2931</td>\n",
              "    </tr>\n",
              "    <tr>\n",
              "      <th>13</th>\n",
              "      <td>2</td>\n",
              "      <td>3</td>\n",
              "      <td>21217</td>\n",
              "      <td>6208</td>\n",
              "      <td>14982</td>\n",
              "      <td>3095</td>\n",
              "      <td>6707</td>\n",
              "      <td>602</td>\n",
              "    </tr>\n",
              "    <tr>\n",
              "      <th>14</th>\n",
              "      <td>2</td>\n",
              "      <td>3</td>\n",
              "      <td>24653</td>\n",
              "      <td>9465</td>\n",
              "      <td>12091</td>\n",
              "      <td>294</td>\n",
              "      <td>5058</td>\n",
              "      <td>2168</td>\n",
              "    </tr>\n",
              "    <tr>\n",
              "      <th>15</th>\n",
              "      <td>1</td>\n",
              "      <td>3</td>\n",
              "      <td>10253</td>\n",
              "      <td>1114</td>\n",
              "      <td>3821</td>\n",
              "      <td>397</td>\n",
              "      <td>964</td>\n",
              "      <td>412</td>\n",
              "    </tr>\n",
              "    <tr>\n",
              "      <th>16</th>\n",
              "      <td>2</td>\n",
              "      <td>3</td>\n",
              "      <td>1020</td>\n",
              "      <td>8816</td>\n",
              "      <td>12121</td>\n",
              "      <td>134</td>\n",
              "      <td>4508</td>\n",
              "      <td>1080</td>\n",
              "    </tr>\n",
              "    <tr>\n",
              "      <th>17</th>\n",
              "      <td>1</td>\n",
              "      <td>3</td>\n",
              "      <td>5876</td>\n",
              "      <td>6157</td>\n",
              "      <td>2933</td>\n",
              "      <td>839</td>\n",
              "      <td>370</td>\n",
              "      <td>4478</td>\n",
              "    </tr>\n",
              "    <tr>\n",
              "      <th>18</th>\n",
              "      <td>2</td>\n",
              "      <td>3</td>\n",
              "      <td>18601</td>\n",
              "      <td>6327</td>\n",
              "      <td>10099</td>\n",
              "      <td>2205</td>\n",
              "      <td>2767</td>\n",
              "      <td>3181</td>\n",
              "    </tr>\n",
              "    <tr>\n",
              "      <th>19</th>\n",
              "      <td>1</td>\n",
              "      <td>3</td>\n",
              "      <td>7780</td>\n",
              "      <td>2495</td>\n",
              "      <td>9464</td>\n",
              "      <td>669</td>\n",
              "      <td>2518</td>\n",
              "      <td>501</td>\n",
              "    </tr>\n",
              "  </tbody>\n",
              "</table>\n",
              "</div>"
            ],
            "text/plain": [
              "    Channel  Region  Fresh  ...  Frozen  Detergents_Paper  Delicassen\n",
              "0         2       3  12669  ...     214              2674        1338\n",
              "1         2       3   7057  ...    1762              3293        1776\n",
              "2         2       3   6353  ...    2405              3516        7844\n",
              "3         1       3  13265  ...    6404               507        1788\n",
              "4         2       3  22615  ...    3915              1777        5185\n",
              "5         2       3   9413  ...     666              1795        1451\n",
              "6         2       3  12126  ...     480              3140         545\n",
              "7         2       3   7579  ...    1669              3321        2566\n",
              "8         1       3   5963  ...     425              1716         750\n",
              "9         2       3   6006  ...    1159              7425        2098\n",
              "10        2       3   3366  ...    4400              5977        1744\n",
              "11        2       3  13146  ...    1420               549         497\n",
              "12        2       3  31714  ...     287              3881        2931\n",
              "13        2       3  21217  ...    3095              6707         602\n",
              "14        2       3  24653  ...     294              5058        2168\n",
              "15        1       3  10253  ...     397               964         412\n",
              "16        2       3   1020  ...     134              4508        1080\n",
              "17        1       3   5876  ...     839               370        4478\n",
              "18        2       3  18601  ...    2205              2767        3181\n",
              "19        1       3   7780  ...     669              2518         501\n",
              "\n",
              "[20 rows x 8 columns]"
            ]
          },
          "metadata": {
            "tags": []
          },
          "execution_count": 2
        }
      ]
    },
    {
      "cell_type": "code",
      "metadata": {
        "id": "NlK8Z-sBeqEF",
        "outputId": "6190c36e-9b29-4c85-d023-227fd7182e93",
        "colab": {
          "base_uri": "https://localhost:8080/"
        }
      },
      "source": [
        "#Region and Channel Frequency\n",
        "count = df['Channel'].value_counts() \n",
        "print('Frequency of Channel outputs:\\n', count) \n",
        "\n",
        "count1 = df['Region'].value_counts()\n",
        "print('\\nFrequency of Region outputs:\\n', count1)"
      ],
      "execution_count": 3,
      "outputs": [
        {
          "output_type": "stream",
          "text": [
            "Frequency of Channel outputs:\n",
            " 1    298\n",
            "2    142\n",
            "Name: Channel, dtype: int64\n",
            "\n",
            "Frequency of Region outputs:\n",
            " 3    316\n",
            "1     77\n",
            "2     47\n",
            "Name: Region, dtype: int64\n"
          ],
          "name": "stdout"
        }
      ]
    },
    {
      "cell_type": "code",
      "metadata": {
        "id": "8crOxW_NeqEG",
        "outputId": "7205c23b-050b-4694-b756-211101ef8e07"
      },
      "source": [
        "#statistics\n",
        "df[['Fresh', 'Milk', 'Grocery', 'Frozen', 'Detergents_Paper', 'Delicassen']].describe()"
      ],
      "execution_count": null,
      "outputs": [
        {
          "output_type": "execute_result",
          "data": {
            "text/html": [
              "<div>\n",
              "<style scoped>\n",
              "    .dataframe tbody tr th:only-of-type {\n",
              "        vertical-align: middle;\n",
              "    }\n",
              "\n",
              "    .dataframe tbody tr th {\n",
              "        vertical-align: top;\n",
              "    }\n",
              "\n",
              "    .dataframe thead th {\n",
              "        text-align: right;\n",
              "    }\n",
              "</style>\n",
              "<table border=\"1\" class=\"dataframe\">\n",
              "  <thead>\n",
              "    <tr style=\"text-align: right;\">\n",
              "      <th></th>\n",
              "      <th>Fresh</th>\n",
              "      <th>Milk</th>\n",
              "      <th>Grocery</th>\n",
              "      <th>Frozen</th>\n",
              "      <th>Detergents_Paper</th>\n",
              "      <th>Delicassen</th>\n",
              "    </tr>\n",
              "  </thead>\n",
              "  <tbody>\n",
              "    <tr>\n",
              "      <td>count</td>\n",
              "      <td>440.000000</td>\n",
              "      <td>440.000000</td>\n",
              "      <td>440.000000</td>\n",
              "      <td>440.000000</td>\n",
              "      <td>440.000000</td>\n",
              "      <td>440.000000</td>\n",
              "    </tr>\n",
              "    <tr>\n",
              "      <td>mean</td>\n",
              "      <td>12000.297727</td>\n",
              "      <td>5796.265909</td>\n",
              "      <td>7951.277273</td>\n",
              "      <td>3071.931818</td>\n",
              "      <td>2881.493182</td>\n",
              "      <td>1524.870455</td>\n",
              "    </tr>\n",
              "    <tr>\n",
              "      <td>std</td>\n",
              "      <td>12647.328865</td>\n",
              "      <td>7380.377175</td>\n",
              "      <td>9503.162829</td>\n",
              "      <td>4854.673333</td>\n",
              "      <td>4767.854448</td>\n",
              "      <td>2820.105937</td>\n",
              "    </tr>\n",
              "    <tr>\n",
              "      <td>min</td>\n",
              "      <td>3.000000</td>\n",
              "      <td>55.000000</td>\n",
              "      <td>3.000000</td>\n",
              "      <td>25.000000</td>\n",
              "      <td>3.000000</td>\n",
              "      <td>3.000000</td>\n",
              "    </tr>\n",
              "    <tr>\n",
              "      <td>25%</td>\n",
              "      <td>3127.750000</td>\n",
              "      <td>1533.000000</td>\n",
              "      <td>2153.000000</td>\n",
              "      <td>742.250000</td>\n",
              "      <td>256.750000</td>\n",
              "      <td>408.250000</td>\n",
              "    </tr>\n",
              "    <tr>\n",
              "      <td>50%</td>\n",
              "      <td>8504.000000</td>\n",
              "      <td>3627.000000</td>\n",
              "      <td>4755.500000</td>\n",
              "      <td>1526.000000</td>\n",
              "      <td>816.500000</td>\n",
              "      <td>965.500000</td>\n",
              "    </tr>\n",
              "    <tr>\n",
              "      <td>75%</td>\n",
              "      <td>16933.750000</td>\n",
              "      <td>7190.250000</td>\n",
              "      <td>10655.750000</td>\n",
              "      <td>3554.250000</td>\n",
              "      <td>3922.000000</td>\n",
              "      <td>1820.250000</td>\n",
              "    </tr>\n",
              "    <tr>\n",
              "      <td>max</td>\n",
              "      <td>112151.000000</td>\n",
              "      <td>73498.000000</td>\n",
              "      <td>92780.000000</td>\n",
              "      <td>60869.000000</td>\n",
              "      <td>40827.000000</td>\n",
              "      <td>47943.000000</td>\n",
              "    </tr>\n",
              "  </tbody>\n",
              "</table>\n",
              "</div>"
            ],
            "text/plain": [
              "               Fresh          Milk       Grocery        Frozen  \\\n",
              "count     440.000000    440.000000    440.000000    440.000000   \n",
              "mean    12000.297727   5796.265909   7951.277273   3071.931818   \n",
              "std     12647.328865   7380.377175   9503.162829   4854.673333   \n",
              "min         3.000000     55.000000      3.000000     25.000000   \n",
              "25%      3127.750000   1533.000000   2153.000000    742.250000   \n",
              "50%      8504.000000   3627.000000   4755.500000   1526.000000   \n",
              "75%     16933.750000   7190.250000  10655.750000   3554.250000   \n",
              "max    112151.000000  73498.000000  92780.000000  60869.000000   \n",
              "\n",
              "       Detergents_Paper    Delicassen  \n",
              "count        440.000000    440.000000  \n",
              "mean        2881.493182   1524.870455  \n",
              "std         4767.854448   2820.105937  \n",
              "min            3.000000      3.000000  \n",
              "25%          256.750000    408.250000  \n",
              "50%          816.500000    965.500000  \n",
              "75%         3922.000000   1820.250000  \n",
              "max        40827.000000  47943.000000  "
            ]
          },
          "metadata": {
            "tags": []
          },
          "execution_count": 232
        }
      ]
    },
    {
      "cell_type": "markdown",
      "metadata": {
        "id": "GuSbwvejeqEG"
      },
      "source": [
        "We can see the magnitudes of the different variables vary quite a bit. We will need to standardize or normalize the data."
      ]
    },
    {
      "cell_type": "markdown",
      "metadata": {
        "id": "jEat6Q-5eqEH"
      },
      "source": [
        " ## 3. EDA"
      ]
    },
    {
      "cell_type": "markdown",
      "metadata": {
        "id": "cCIRmF3HeqEH"
      },
      "source": [
        "**Question 4:**\n",
        "\n",
        "As seen above from our df.describe() the magnitudes are very different between the different variables. Since K-Means is a distance based algorithm we need to bring all the variables to the same magnitude by standardizing it. "
      ]
    },
    {
      "cell_type": "code",
      "metadata": {
        "id": "MM9M0UAfeqEH",
        "outputId": "374df337-a329-4037-a04f-d34de6947d9c"
      },
      "source": [
        "# standardizing the data\n",
        "from sklearn.preprocessing import StandardScaler\n",
        "\n",
        "scaler = StandardScaler()\n",
        "data_scaled = scaler.fit_transform(df)\n",
        "\n",
        "# statistics of scaled data\n",
        "pd.DataFrame(data_scaled).describe()"
      ],
      "execution_count": null,
      "outputs": [
        {
          "output_type": "execute_result",
          "data": {
            "text/html": [
              "<div>\n",
              "<style scoped>\n",
              "    .dataframe tbody tr th:only-of-type {\n",
              "        vertical-align: middle;\n",
              "    }\n",
              "\n",
              "    .dataframe tbody tr th {\n",
              "        vertical-align: top;\n",
              "    }\n",
              "\n",
              "    .dataframe thead th {\n",
              "        text-align: right;\n",
              "    }\n",
              "</style>\n",
              "<table border=\"1\" class=\"dataframe\">\n",
              "  <thead>\n",
              "    <tr style=\"text-align: right;\">\n",
              "      <th></th>\n",
              "      <th>0</th>\n",
              "      <th>1</th>\n",
              "      <th>2</th>\n",
              "      <th>3</th>\n",
              "      <th>4</th>\n",
              "      <th>5</th>\n",
              "      <th>6</th>\n",
              "      <th>7</th>\n",
              "    </tr>\n",
              "  </thead>\n",
              "  <tbody>\n",
              "    <tr>\n",
              "      <td>count</td>\n",
              "      <td>4.400000e+02</td>\n",
              "      <td>4.400000e+02</td>\n",
              "      <td>4.400000e+02</td>\n",
              "      <td>4.400000e+02</td>\n",
              "      <td>4.400000e+02</td>\n",
              "      <td>4.400000e+02</td>\n",
              "      <td>4.400000e+02</td>\n",
              "      <td>4.400000e+02</td>\n",
              "    </tr>\n",
              "    <tr>\n",
              "      <td>mean</td>\n",
              "      <td>-2.452584e-16</td>\n",
              "      <td>-5.737834e-16</td>\n",
              "      <td>-2.422305e-17</td>\n",
              "      <td>-1.589638e-17</td>\n",
              "      <td>-6.030530e-17</td>\n",
              "      <td>1.135455e-17</td>\n",
              "      <td>-1.917658e-17</td>\n",
              "      <td>-8.276208e-17</td>\n",
              "    </tr>\n",
              "    <tr>\n",
              "      <td>std</td>\n",
              "      <td>1.001138e+00</td>\n",
              "      <td>1.001138e+00</td>\n",
              "      <td>1.001138e+00</td>\n",
              "      <td>1.001138e+00</td>\n",
              "      <td>1.001138e+00</td>\n",
              "      <td>1.001138e+00</td>\n",
              "      <td>1.001138e+00</td>\n",
              "      <td>1.001138e+00</td>\n",
              "    </tr>\n",
              "    <tr>\n",
              "      <td>min</td>\n",
              "      <td>-6.902971e-01</td>\n",
              "      <td>-1.995342e+00</td>\n",
              "      <td>-9.496831e-01</td>\n",
              "      <td>-7.787951e-01</td>\n",
              "      <td>-8.373344e-01</td>\n",
              "      <td>-6.283430e-01</td>\n",
              "      <td>-6.044165e-01</td>\n",
              "      <td>-5.402644e-01</td>\n",
              "    </tr>\n",
              "    <tr>\n",
              "      <td>25%</td>\n",
              "      <td>-6.902971e-01</td>\n",
              "      <td>-7.023369e-01</td>\n",
              "      <td>-7.023339e-01</td>\n",
              "      <td>-5.783063e-01</td>\n",
              "      <td>-6.108364e-01</td>\n",
              "      <td>-4.804306e-01</td>\n",
              "      <td>-5.511349e-01</td>\n",
              "      <td>-3.964005e-01</td>\n",
              "    </tr>\n",
              "    <tr>\n",
              "      <td>50%</td>\n",
              "      <td>-6.902971e-01</td>\n",
              "      <td>5.906683e-01</td>\n",
              "      <td>-2.767602e-01</td>\n",
              "      <td>-2.942580e-01</td>\n",
              "      <td>-3.366684e-01</td>\n",
              "      <td>-3.188045e-01</td>\n",
              "      <td>-4.336004e-01</td>\n",
              "      <td>-1.985766e-01</td>\n",
              "    </tr>\n",
              "    <tr>\n",
              "      <td>75%</td>\n",
              "      <td>1.448652e+00</td>\n",
              "      <td>5.906683e-01</td>\n",
              "      <td>3.905226e-01</td>\n",
              "      <td>1.890921e-01</td>\n",
              "      <td>2.849105e-01</td>\n",
              "      <td>9.946441e-02</td>\n",
              "      <td>2.184822e-01</td>\n",
              "      <td>1.048598e-01</td>\n",
              "    </tr>\n",
              "    <tr>\n",
              "      <td>max</td>\n",
              "      <td>1.448652e+00</td>\n",
              "      <td>5.906683e-01</td>\n",
              "      <td>7.927738e+00</td>\n",
              "      <td>9.183650e+00</td>\n",
              "      <td>8.936528e+00</td>\n",
              "      <td>1.191900e+01</td>\n",
              "      <td>7.967672e+00</td>\n",
              "      <td>1.647845e+01</td>\n",
              "    </tr>\n",
              "  </tbody>\n",
              "</table>\n",
              "</div>"
            ],
            "text/plain": [
              "                  0             1             2             3             4  \\\n",
              "count  4.400000e+02  4.400000e+02  4.400000e+02  4.400000e+02  4.400000e+02   \n",
              "mean  -2.452584e-16 -5.737834e-16 -2.422305e-17 -1.589638e-17 -6.030530e-17   \n",
              "std    1.001138e+00  1.001138e+00  1.001138e+00  1.001138e+00  1.001138e+00   \n",
              "min   -6.902971e-01 -1.995342e+00 -9.496831e-01 -7.787951e-01 -8.373344e-01   \n",
              "25%   -6.902971e-01 -7.023369e-01 -7.023339e-01 -5.783063e-01 -6.108364e-01   \n",
              "50%   -6.902971e-01  5.906683e-01 -2.767602e-01 -2.942580e-01 -3.366684e-01   \n",
              "75%    1.448652e+00  5.906683e-01  3.905226e-01  1.890921e-01  2.849105e-01   \n",
              "max    1.448652e+00  5.906683e-01  7.927738e+00  9.183650e+00  8.936528e+00   \n",
              "\n",
              "                  5             6             7  \n",
              "count  4.400000e+02  4.400000e+02  4.400000e+02  \n",
              "mean   1.135455e-17 -1.917658e-17 -8.276208e-17  \n",
              "std    1.001138e+00  1.001138e+00  1.001138e+00  \n",
              "min   -6.283430e-01 -6.044165e-01 -5.402644e-01  \n",
              "25%   -4.804306e-01 -5.511349e-01 -3.964005e-01  \n",
              "50%   -3.188045e-01 -4.336004e-01 -1.985766e-01  \n",
              "75%    9.946441e-02  2.184822e-01  1.048598e-01  \n",
              "max    1.191900e+01  7.967672e+00  1.647845e+01  "
            ]
          },
          "metadata": {
            "tags": []
          },
          "execution_count": 233
        }
      ]
    },
    {
      "cell_type": "markdown",
      "metadata": {
        "id": "7uTih_ddeqEI"
      },
      "source": [
        "Now that the magnitudes look similar let us run our kmeans function and fit the data. "
      ]
    },
    {
      "cell_type": "markdown",
      "metadata": {
        "id": "TLCzo03ieqEI"
      },
      "source": [
        "## 4. Models"
      ]
    },
    {
      "cell_type": "markdown",
      "metadata": {
        "id": "4zpjF5PEeqEJ"
      },
      "source": [
        "### 4.a) K-Means Clustering"
      ]
    },
    {
      "cell_type": "code",
      "metadata": {
        "id": "epH5FkJIeqEJ",
        "outputId": "3de0eef0-cab4-4358-9b10-9ab356f1b407"
      },
      "source": [
        "# defining the kmeans function with initialization as k-means++\n",
        "kmeans = KMeans(n_clusters=2, init='k-means++')\n",
        "\n",
        "# fitting the k means algorithm on scaled data\n",
        "kmeans.fit(data_scaled)"
      ],
      "execution_count": null,
      "outputs": [
        {
          "output_type": "execute_result",
          "data": {
            "text/plain": [
              "KMeans(algorithm='auto', copy_x=True, init='k-means++', max_iter=300,\n",
              "       n_clusters=2, n_init=10, n_jobs=None, precompute_distances='auto',\n",
              "       random_state=None, tol=0.0001, verbose=0)"
            ]
          },
          "metadata": {
            "tags": []
          },
          "execution_count": 234
        }
      ]
    },
    {
      "cell_type": "code",
      "metadata": {
        "id": "9LFWtf3keqEJ",
        "outputId": "27fbec33-5270-4e1a-d2b8-effdf6235546"
      },
      "source": [
        "# inertia on the fitted data\n",
        "kmeans.inertia_"
      ],
      "execution_count": null,
      "outputs": [
        {
          "output_type": "execute_result",
          "data": {
            "text/plain": [
              "2599.3873849123083"
            ]
          },
          "metadata": {
            "tags": []
          },
          "execution_count": 18
        }
      ]
    },
    {
      "cell_type": "markdown",
      "metadata": {
        "id": "qRRLTFgbeqEJ"
      },
      "source": [
        "This is a very high inertia. When dealing with inertia we want the a value close to 0. Let us use the elbow method to determine the amount of clusters needed."
      ]
    },
    {
      "cell_type": "code",
      "metadata": {
        "id": "rB7jl65UeqEK",
        "outputId": "4d7497bc-e86c-485b-87b0-49d699c7a58b"
      },
      "source": [
        "# fitting multiple k-means algorithms and storing the values in an empty list\n",
        "SSE = []\n",
        "for cluster in range(1,20):\n",
        "    kmeans = KMeans(n_jobs = -1, n_clusters = cluster, init='k-means++')\n",
        "    kmeans.fit(data_scaled)\n",
        "    SSE.append(kmeans.inertia_)\n",
        "\n",
        "# converting the results into a dataframe and plotting them\n",
        "frame = pd.DataFrame({'Cluster':range(1,20), 'SSE':SSE})\n",
        "plt.figure(figsize=(12,6))\n",
        "plt.plot(frame['Cluster'], frame['SSE'], marker='o')\n",
        "plt.xlabel('Number of clusters')\n",
        "plt.ylabel('Inertia')"
      ],
      "execution_count": null,
      "outputs": [
        {
          "output_type": "execute_result",
          "data": {
            "text/plain": [
              "Text(0, 0.5, 'Inertia')"
            ]
          },
          "metadata": {
            "tags": []
          },
          "execution_count": 235
        },
        {
          "output_type": "display_data",
          "data": {
            "image/png": "[encoded data removed]",
            "text/plain": [
              "<Figure size 864x432 with 1 Axes>"
            ]
          },
          "metadata": {
            "tags": [],
            "needs_background": "light"
          }
        }
      ]
    },
    {
      "cell_type": "markdown",
      "metadata": {
        "id": "Nt9P0tSYeqEK"
      },
      "source": [
        "Looking it is a bit hard to tell what the elbow of the graph is. I would say between 5 and 9 clusters would explain a good percentage of the variance. Let us use 7 clusters"
      ]
    },
    {
      "cell_type": "code",
      "metadata": {
        "id": "JuweiuwkeqEK"
      },
      "source": [
        "# k means using 7 clusters and k-means++ initialization\n",
        "kmeans = KMeans(n_jobs = -1, n_clusters = 7, init='k-means++')\n",
        "kmeans.fit(data_scaled)\n",
        "pred = kmeans.predict(data_scaled)"
      ],
      "execution_count": null,
      "outputs": []
    },
    {
      "cell_type": "code",
      "metadata": {
        "id": "aVxZXVYteqEK",
        "outputId": "c7dc177c-b491-444b-d499-2eb8f79c4013"
      },
      "source": [
        "frame = pd.DataFrame(data_scaled)\n",
        "frame['cluster'] = pred\n",
        "frame['cluster'].value_counts()"
      ],
      "execution_count": null,
      "outputs": [
        {
          "output_type": "execute_result",
          "data": {
            "text/plain": [
              "5    164\n",
              "1    124\n",
              "3     85\n",
              "0     52\n",
              "4     11\n",
              "2      3\n",
              "6      1\n",
              "Name: cluster, dtype: int64"
            ]
          },
          "metadata": {
            "tags": []
          },
          "execution_count": 94
        }
      ]
    },
    {
      "cell_type": "code",
      "metadata": {
        "id": "YOgkx2h4eqEL",
        "outputId": "6981e233-bd42-4581-df41-251d6ec66e5d"
      },
      "source": [
        "frame.head(5)"
      ],
      "execution_count": null,
      "outputs": [
        {
          "output_type": "execute_result",
          "data": {
            "text/html": [
              "<div>\n",
              "<style scoped>\n",
              "    .dataframe tbody tr th:only-of-type {\n",
              "        vertical-align: middle;\n",
              "    }\n",
              "\n",
              "    .dataframe tbody tr th {\n",
              "        vertical-align: top;\n",
              "    }\n",
              "\n",
              "    .dataframe thead th {\n",
              "        text-align: right;\n",
              "    }\n",
              "</style>\n",
              "<table border=\"1\" class=\"dataframe\">\n",
              "  <thead>\n",
              "    <tr style=\"text-align: right;\">\n",
              "      <th></th>\n",
              "      <th>0</th>\n",
              "      <th>1</th>\n",
              "      <th>2</th>\n",
              "      <th>3</th>\n",
              "      <th>4</th>\n",
              "      <th>5</th>\n",
              "      <th>6</th>\n",
              "      <th>7</th>\n",
              "      <th>cluster</th>\n",
              "    </tr>\n",
              "  </thead>\n",
              "  <tbody>\n",
              "    <tr>\n",
              "      <td>0</td>\n",
              "      <td>1.448652</td>\n",
              "      <td>0.590668</td>\n",
              "      <td>0.052933</td>\n",
              "      <td>0.523568</td>\n",
              "      <td>-0.041115</td>\n",
              "      <td>-0.589367</td>\n",
              "      <td>-0.043569</td>\n",
              "      <td>-0.066339</td>\n",
              "      <td>1</td>\n",
              "    </tr>\n",
              "    <tr>\n",
              "      <td>1</td>\n",
              "      <td>1.448652</td>\n",
              "      <td>0.590668</td>\n",
              "      <td>-0.391302</td>\n",
              "      <td>0.544458</td>\n",
              "      <td>0.170318</td>\n",
              "      <td>-0.270136</td>\n",
              "      <td>0.086407</td>\n",
              "      <td>0.089151</td>\n",
              "      <td>1</td>\n",
              "    </tr>\n",
              "    <tr>\n",
              "      <td>2</td>\n",
              "      <td>1.448652</td>\n",
              "      <td>0.590668</td>\n",
              "      <td>-0.447029</td>\n",
              "      <td>0.408538</td>\n",
              "      <td>-0.028157</td>\n",
              "      <td>-0.137536</td>\n",
              "      <td>0.133232</td>\n",
              "      <td>2.243293</td>\n",
              "      <td>1</td>\n",
              "    </tr>\n",
              "    <tr>\n",
              "      <td>3</td>\n",
              "      <td>-0.690297</td>\n",
              "      <td>0.590668</td>\n",
              "      <td>0.100111</td>\n",
              "      <td>-0.624020</td>\n",
              "      <td>-0.392977</td>\n",
              "      <td>0.687144</td>\n",
              "      <td>-0.498588</td>\n",
              "      <td>0.093411</td>\n",
              "      <td>0</td>\n",
              "    </tr>\n",
              "    <tr>\n",
              "      <td>4</td>\n",
              "      <td>1.448652</td>\n",
              "      <td>0.590668</td>\n",
              "      <td>0.840239</td>\n",
              "      <td>-0.052396</td>\n",
              "      <td>-0.079356</td>\n",
              "      <td>0.173859</td>\n",
              "      <td>-0.231918</td>\n",
              "      <td>1.299347</td>\n",
              "      <td>1</td>\n",
              "    </tr>\n",
              "  </tbody>\n",
              "</table>\n",
              "</div>"
            ],
            "text/plain": [
              "          0         1         2         3         4         5         6  \\\n",
              "0  1.448652  0.590668  0.052933  0.523568 -0.041115 -0.589367 -0.043569   \n",
              "1  1.448652  0.590668 -0.391302  0.544458  0.170318 -0.270136  0.086407   \n",
              "2  1.448652  0.590668 -0.447029  0.408538 -0.028157 -0.137536  0.133232   \n",
              "3 -0.690297  0.590668  0.100111 -0.624020 -0.392977  0.687144 -0.498588   \n",
              "4  1.448652  0.590668  0.840239 -0.052396 -0.079356  0.173859 -0.231918   \n",
              "\n",
              "          7  cluster  \n",
              "0 -0.066339        1  \n",
              "1  0.089151        1  \n",
              "2  2.243293        1  \n",
              "3  0.093411        0  \n",
              "4  1.299347        1  "
            ]
          },
          "metadata": {
            "tags": []
          },
          "execution_count": 38
        }
      ]
    },
    {
      "cell_type": "markdown",
      "metadata": {
        "id": "gzfVI1LTeqEL"
      },
      "source": [
        "#### Boxplots of Clusters"
      ]
    },
    {
      "cell_type": "markdown",
      "metadata": {
        "id": "g-hs8BC6eqEL"
      },
      "source": [
        "Let us see if we can see infer any more information by plotting boxplots of each variable in each cluster. "
      ]
    },
    {
      "cell_type": "code",
      "metadata": {
        "id": "z-A5XYL4eqEL"
      },
      "source": [
        "#Create a new df we can make a boxplot out of per cluster\n",
        "cluster0 = frame.loc[frame['cluster'] == 0]\n",
        "cluster1 = frame.loc[frame['cluster'] == 1]\n",
        "cluster2 = frame.loc[frame['cluster'] == 2]\n",
        "cluster3 = frame.loc[frame['cluster'] == 3]\n",
        "cluster4 = frame.loc[frame['cluster'] == 4]\n",
        "cluster5 = frame.loc[frame['cluster'] == 5]\n",
        "cluster6 = frame.loc[frame['cluster'] == 6]"
      ],
      "execution_count": null,
      "outputs": []
    },
    {
      "cell_type": "code",
      "metadata": {
        "id": "a5uPp_sieqEM",
        "outputId": "391b7222-6e64-4388-97a2-c78a082c0217"
      },
      "source": [
        "#cluster 0 boxplot\n",
        "cluster0.boxplot(column=[0,1,2,3,4,5,6,7])\n",
        "\n",
        "#Region and Channel Frequency\n",
        "count = cluster0[0].value_counts() \n",
        "print('Frequency of Channel outputs:\\n', count) \n",
        "\n",
        "count1 = cluster0[1].value_counts()\n",
        "print('\\nFrequency of Region outputs:\\n', count1)"
      ],
      "execution_count": null,
      "outputs": [
        {
          "output_type": "stream",
          "text": [
            "Frequency of Channel outputs:\n",
            " -0.690297    49\n",
            " 1.448652     3\n",
            "Name: 0, dtype: int64\n",
            "\n",
            "Frequency of Region outputs:\n",
            "  0.590668    46\n",
            "-1.995342     4\n",
            "-0.702337     2\n",
            "Name: 1, dtype: int64\n"
          ],
          "name": "stdout"
        },
        {
          "output_type": "display_data",
          "data": {
            "image/png": "[encoded data removed]",
            "text/plain": [
              "<Figure size 432x288 with 1 Axes>"
            ]
          },
          "metadata": {
            "tags": [],
            "needs_background": "light"
          }
        }
      ]
    },
    {
      "cell_type": "markdown",
      "metadata": {
        "id": "lY8QExBgeqEM"
      },
      "source": [
        "#### Thoughts:\n",
        "We see the cluster 0 boxplot and frequencies are above:\n",
        "\n",
        "column = 0 (Channel): There are 49 channel = 0\n",
        "\n",
        "column = 1 (Region): The are 46 region = 3\n",
        "\n",
        "column = 2 (Fresh):  Mean is around 1.5\n",
        "\n",
        "column = 3 (Milk): Mean is around -0.25\n",
        "\n",
        "column = 4 (Grocery): Mean is around -0.30\n",
        "\n",
        "column = 5 (Frozen): Mean is around 0.75\n",
        "\n",
        "column = 6 (Detergents_Paper): Mean is around -0.4\n",
        "\n",
        "column = 7 (Delicassen): Mean is 0"
      ]
    },
    {
      "cell_type": "code",
      "metadata": {
        "id": "QqVQYqEmeqEM",
        "outputId": "04c0b506-47a2-4d83-b55a-1915bf31095e"
      },
      "source": [
        "#cluster 1 boxplot\n",
        "cluster1.boxplot(column=[0,1,2,3,4,5,6,7])\n",
        "\n",
        "#Region and Channel Frequency\n",
        "count = cluster1[0].value_counts() \n",
        "print('Frequency of Channel outputs:\\n', count) \n",
        "\n",
        "count1 = cluster1[1].value_counts()\n",
        "print('\\nFrequency of Region outputs:\\n', count1)"
      ],
      "execution_count": null,
      "outputs": [
        {
          "output_type": "stream",
          "text": [
            "Frequency of Channel outputs:\n",
            " 1.448652    124\n",
            "Name: 0, dtype: int64\n",
            "\n",
            "Frequency of Region outputs:\n",
            "  0.590668    95\n",
            "-0.702337    17\n",
            "-1.995342    12\n",
            "Name: 1, dtype: int64\n"
          ],
          "name": "stdout"
        },
        {
          "output_type": "display_data",
          "data": {
            "image/png": "[encoded data removed]",
            "text/plain": [
              "<Figure size 432x288 with 1 Axes>"
            ]
          },
          "metadata": {
            "tags": [],
            "needs_background": "light"
          }
        }
      ]
    },
    {
      "cell_type": "markdown",
      "metadata": {
        "id": "1C7aI0w6eqEM"
      },
      "source": [
        "#### Thoughts:\n",
        "We see the cluster 1 boxplot and frequencies are above:\n",
        "\n",
        "column = 0 (Channel): There are 124 channel = 1\n",
        "\n",
        "column = 1 (Region): The are 95 region = 3\n",
        "\n",
        "column = 2 (Fresh):  Mean is around -0.5\n",
        "\n",
        "column = 3 (Milk): Mean is around 0.25\n",
        "\n",
        "column = 4 (Grocery): Mean is around 0.4\n",
        "\n",
        "column = 5 (Frozen): Mean is around -0.35\n",
        "\n",
        "column = 6 (Detergents_Paper): Mean is around 0.5\n",
        "\n",
        "column = 7 (Delicassen): Mean is -0.1"
      ]
    },
    {
      "cell_type": "code",
      "metadata": {
        "id": "zd-CkLfyeqEM",
        "outputId": "193da912-3c06-4b45-9b79-8c0f82f0b13c"
      },
      "source": [
        "#cluster 2 boxplot\n",
        "cluster2.boxplot(column=[0,1,2,3,4,5,6,7])\n",
        "\n",
        "#Region and Channel Frequency\n",
        "count = cluster2[0].value_counts() \n",
        "print('Frequency of Channel outputs:\\n', count) \n",
        "\n",
        "count1 = cluster2[1].value_counts()\n",
        "print('\\nFrequency of Region outputs:\\n', count1)"
      ],
      "execution_count": null,
      "outputs": [
        {
          "output_type": "stream",
          "text": [
            "Frequency of Channel outputs:\n",
            " -0.690297    3\n",
            "Name: 0, dtype: int64\n",
            "\n",
            "Frequency of Region outputs:\n",
            "  0.590668    2\n",
            "-0.702337    1\n",
            "Name: 1, dtype: int64\n"
          ],
          "name": "stdout"
        },
        {
          "output_type": "display_data",
          "data": {
            "image/png": "[encoded data removed]",
            "text/plain": [
              "<Figure size 432x288 with 1 Axes>"
            ]
          },
          "metadata": {
            "tags": [],
            "needs_background": "light"
          }
        }
      ]
    },
    {
      "cell_type": "markdown",
      "metadata": {
        "id": "4KQVNatHeqEN"
      },
      "source": [
        "#### Thoughts:\n",
        "We see the cluster 2 boxplot and frequencies are above:\n",
        "\n",
        "column = 0 (Channel): There are 3 channel = 0\n",
        "\n",
        "column = 1 (Region): The are 2 region = 3\n",
        "\n",
        "column = 2 (Fresh):  Mean is around 1.8\n",
        "\n",
        "column = 3 (Milk): Mean is around 1.75\n",
        "\n",
        "column = 4 (Grocery): Mean is around 0.8\n",
        "\n",
        "column = 5 (Frozen): Mean is around 6.5\n",
        "\n",
        "column = 6 (Detergents_Paper): Mean is around -0.2\n",
        "\n",
        "column = 7 (Delicassen): Mean is 1.75"
      ]
    },
    {
      "cell_type": "code",
      "metadata": {
        "id": "l7cB1hW1eqEN",
        "outputId": "987de878-4edd-4502-a831-1b48446e5068"
      },
      "source": [
        "#cluster 3 boxplot\n",
        "cluster3.boxplot(column=[0,1,2,3,4,5,6,7])\n",
        "\n",
        "#Region and Channel Frequency\n",
        "count = cluster3[0].value_counts() \n",
        "print('Frequency of Channel outputs:\\n', count) \n",
        "\n",
        "count1 = cluster3[1].value_counts()\n",
        "print('\\nFrequency of Region outputs:\\n', count1)"
      ],
      "execution_count": null,
      "outputs": [
        {
          "output_type": "stream",
          "text": [
            "Frequency of Channel outputs:\n",
            " -0.690297    81\n",
            " 1.448652     4\n",
            "Name: 0, dtype: int64\n",
            "\n",
            "Frequency of Region outputs:\n",
            " -1.995342    59\n",
            "-0.702337    26\n",
            "Name: 1, dtype: int64\n"
          ],
          "name": "stdout"
        },
        {
          "output_type": "display_data",
          "data": {
            "image/png": "[encoded data removed]",
            "text/plain": [
              "<Figure size 432x288 with 1 Axes>"
            ]
          },
          "metadata": {
            "tags": [],
            "needs_background": "light"
          }
        }
      ]
    },
    {
      "cell_type": "markdown",
      "metadata": {
        "id": "oCVuOX_SeqEN"
      },
      "source": [
        "#### Thoughts:\n",
        "We see the cluster 3 boxplot and frequencies are above:\n",
        "\n",
        "column = 0 (Channel): There are 81 channel = 0\n",
        "\n",
        "column = 1 (Region): The are 59 region = 0\n",
        "\n",
        "column = 2 (Fresh):  Mean is around -0.25\n",
        "\n",
        "column = 3 (Milk): Mean is around -0.5\n",
        "\n",
        "column = 4 (Grocery): Mean is around -0.5\n",
        "\n",
        "column = 5 (Frozen): Mean is around -0.2\n",
        "\n",
        "column = 6 (Detergents_Paper): Mean is around -0.5\n",
        "\n",
        "column = 7 (Delicassen): Mean is -0.25"
      ]
    },
    {
      "cell_type": "code",
      "metadata": {
        "id": "pwe6bhNXeqEN",
        "outputId": "ec70f1e3-d5c9-4464-b2e3-715c1dc86690"
      },
      "source": [
        "#cluster 4 boxplot\n",
        "cluster4.boxplot(column=[0,1,2,3,4,5,6,7])\n",
        "\n",
        "#Region and Channel Frequency\n",
        "count = cluster4[0].value_counts() \n",
        "print('Frequency of Channel outputs:\\n', count) \n",
        "\n",
        "count1 = cluster4[1].value_counts()\n",
        "print('\\nFrequency of Region outputs:\\n', count1)"
      ],
      "execution_count": null,
      "outputs": [
        {
          "output_type": "stream",
          "text": [
            "Frequency of Channel outputs:\n",
            " 1.448652    11\n",
            "Name: 0, dtype: int64\n",
            "\n",
            "Frequency of Region outputs:\n",
            "  0.590668    8\n",
            "-1.995342    2\n",
            "-0.702337    1\n",
            "Name: 1, dtype: int64\n"
          ],
          "name": "stdout"
        },
        {
          "output_type": "display_data",
          "data": {
            "image/png": "[encoded data removed]",
            "text/plain": [
              "<Figure size 432x288 with 1 Axes>"
            ]
          },
          "metadata": {
            "tags": [],
            "needs_background": "light"
          }
        }
      ]
    },
    {
      "cell_type": "markdown",
      "metadata": {
        "id": "mlUHdjFVeqEO"
      },
      "source": [
        "#### Thoughts:\n",
        "We see the cluster 4 boxplot and frequencies are above:\n",
        "\n",
        "column = 0 (Channel): There are 11 channel = 1\n",
        "\n",
        "column = 1 (Region): The are 8 region = 3\n",
        "\n",
        "column = 2 (Fresh):  Mean is around 0\n",
        "\n",
        "column = 3 (Milk): Mean is around 3\n",
        "\n",
        "column = 4 (Grocery): Mean is around 3\n",
        "\n",
        "column = 5 (Frozen): Mean is around 0\n",
        "\n",
        "column = 6 (Detergents_Paper): Mean is around 3.5\n",
        "\n",
        "column = 7 (Delicassen): Mean is 0.5"
      ]
    },
    {
      "cell_type": "code",
      "metadata": {
        "id": "isiCwSlFeqEP",
        "outputId": "90b8a851-0e54-47ed-bee4-19b757ea671f"
      },
      "source": [
        "#cluster 5 boxplot\n",
        "cluster5.boxplot(column=[0,1,2,3,4,5,6,7])\n",
        "\n",
        "#Region and Channel Frequency\n",
        "count = cluster5[0].value_counts() \n",
        "print('Frequency of Channel outputs:\\n', count) \n",
        "\n",
        "count1 = cluster5[1].value_counts()\n",
        "print('\\nFrequency of Region outputs:\\n', count1)"
      ],
      "execution_count": null,
      "outputs": [
        {
          "output_type": "stream",
          "text": [
            "Frequency of Channel outputs:\n",
            " -0.690297    164\n",
            "Name: 0, dtype: int64\n",
            "\n",
            "Frequency of Region outputs:\n",
            " 0.590668    164\n",
            "Name: 1, dtype: int64\n"
          ],
          "name": "stdout"
        },
        {
          "output_type": "display_data",
          "data": {
            "image/png": "[encoded data removed]",
            "text/plain": [
              "<Figure size 432x288 with 1 Axes>"
            ]
          },
          "metadata": {
            "tags": [],
            "needs_background": "light"
          }
        }
      ]
    },
    {
      "cell_type": "markdown",
      "metadata": {
        "id": "uOgoprBmeqEP"
      },
      "source": [
        "#### Thoughts:\n",
        "We see the cluster 5 boxplot and frequencies are above:\n",
        "\n",
        "column = 0 (Channel): There are 164 channel = 0\n",
        "\n",
        "column = 1 (Region): The are 164 region = 3\n",
        "\n",
        "column = 2 (Fresh):  Mean is around -0.4\n",
        "\n",
        "column = 3 (Milk): Mean is around -0.5\n",
        "\n",
        "column = 4 (Grocery): Mean is around -0.6\n",
        "\n",
        "column = 5 (Frozen): Mean is around -0.3\n",
        "\n",
        "column = 6 (Detergents_Paper): Mean is around -0.5\n",
        "\n",
        "column = 7 (Delicassen): Mean is -0.25"
      ]
    },
    {
      "cell_type": "code",
      "metadata": {
        "id": "e4NtykoPeqEP",
        "outputId": "e56169ca-ee70-4b23-d160-a3104cc07d5d"
      },
      "source": [
        "#cluster 6 boxplot\n",
        "cluster6.boxplot(column=[0,1,2,3,4,5,6,7])\n",
        "\n",
        "#Region and Channel Frequency\n",
        "count = cluster6[0].value_counts() \n",
        "print('Frequency of Channel outputs:\\n', count) \n",
        "\n",
        "count1 = cluster6[1].value_counts()\n",
        "print('\\nFrequency of Region outputs:\\n', count1)"
      ],
      "execution_count": null,
      "outputs": [
        {
          "output_type": "stream",
          "text": [
            "Frequency of Channel outputs:\n",
            " -0.690297    1\n",
            "Name: 0, dtype: int64\n",
            "\n",
            "Frequency of Region outputs:\n",
            " 0.590668    1\n",
            "Name: 1, dtype: int64\n"
          ],
          "name": "stdout"
        },
        {
          "output_type": "display_data",
          "data": {
            "image/png": "[encoded data removed]",
            "text/plain": [
              "<Figure size 432x288 with 1 Axes>"
            ]
          },
          "metadata": {
            "tags": [],
            "needs_background": "light"
          }
        }
      ]
    },
    {
      "cell_type": "markdown",
      "metadata": {
        "id": "pLuEn1sueqEP"
      },
      "source": [
        "#### Thoughts:\n",
        "We see the cluster 6 boxplot and frequencies are above:\n",
        "\n",
        "column = 0 (Channel): There are 1 channel = 0\n",
        "\n",
        "column = 1 (Region): The are 1 region = 3\n",
        "\n",
        "column = 2 (Fresh):  Mean is around 2\n",
        "\n",
        "column = 3 (Milk): Mean is around 5\n",
        "\n",
        "column = 4 (Grocery): Mean is around 1.5\n",
        "\n",
        "column = 5 (Frozen): Mean is around 7\n",
        "\n",
        "column = 6 (Detergents_Paper): Mean is around -0.2\n",
        "\n",
        "column = 7 (Delicassen): Mean is 17"
      ]
    },
    {
      "cell_type": "markdown",
      "metadata": {
        "id": "2ErPlSxgeqEQ"
      },
      "source": [
        "##### Conclusion:\n",
        "Looking at the means and range of each cluster for individual variables it looks like each cluster represents the biggest purchasers in specific areas based on m.u of the certain category. It lists the distribution of channel and region for the specific cluster. \n",
        "\n",
        "Let us look at the difference between each cluster for specific columns"
      ]
    },
    {
      "cell_type": "code",
      "metadata": {
        "id": "2ha0uTkKeqEQ",
        "outputId": "4a140b43-c906-4a3b-d4ef-7af1cacfe2ee"
      },
      "source": [
        "#Column == 0 (Channel)\n",
        "(frame.boxplot(by ='cluster', column = [0], grid = False))"
      ],
      "execution_count": null,
      "outputs": [
        {
          "output_type": "execute_result",
          "data": {
            "text/plain": [
              "<matplotlib.axes._subplots.AxesSubplot at 0x2e5ff851d88>"
            ]
          },
          "metadata": {
            "tags": []
          },
          "execution_count": 103
        },
        {
          "output_type": "display_data",
          "data": {
            "image/png": "[encoded data removed]",
            "text/plain": [
              "<Figure size 432x288 with 1 Axes>"
            ]
          },
          "metadata": {
            "tags": [],
            "needs_background": "light"
          }
        }
      ]
    },
    {
      "cell_type": "code",
      "metadata": {
        "id": "SH2llJ26eqEQ",
        "outputId": "59a76a9c-bf09-40aa-f432-7c88a39b7595"
      },
      "source": [
        "#Column == 1 (Region)\n",
        "(frame.boxplot(by ='cluster', column =[1], grid = False))"
      ],
      "execution_count": null,
      "outputs": [
        {
          "output_type": "execute_result",
          "data": {
            "text/plain": [
              "<matplotlib.axes._subplots.AxesSubplot at 0x2e5ffa9bd48>"
            ]
          },
          "metadata": {
            "tags": []
          },
          "execution_count": 51
        },
        {
          "output_type": "display_data",
          "data": {
            "image/png": "[encoded data removed]",
            "text/plain": [
              "<Figure size 432x288 with 1 Axes>"
            ]
          },
          "metadata": {
            "tags": [],
            "needs_background": "light"
          }
        }
      ]
    },
    {
      "cell_type": "code",
      "metadata": {
        "id": "-lbKXLCneqEQ",
        "outputId": "8294e996-6590-4347-fd39-f04f9d1433f7"
      },
      "source": [
        "#Column == 2 (Fresh)\n",
        "(frame.boxplot(by ='cluster', column =[2], grid = False))"
      ],
      "execution_count": null,
      "outputs": [
        {
          "output_type": "execute_result",
          "data": {
            "text/plain": [
              "<matplotlib.axes._subplots.AxesSubplot at 0x2e5ffac2108>"
            ]
          },
          "metadata": {
            "tags": []
          },
          "execution_count": 53
        },
        {
          "output_type": "display_data",
          "data": {
            "image/png": "[encoded data removed]",
            "text/plain": [
              "<Figure size 432x288 with 1 Axes>"
            ]
          },
          "metadata": {
            "tags": [],
            "needs_background": "light"
          }
        }
      ]
    },
    {
      "cell_type": "markdown",
      "metadata": {
        "id": "IkyzN3qAeqEQ"
      },
      "source": [
        "We can see here that cluster 3 and 4 perform well in the region of Fresh. "
      ]
    },
    {
      "cell_type": "code",
      "metadata": {
        "id": "kLb3aJHPeqER",
        "outputId": "87f8db87-3674-41a5-a3a0-605d40780413"
      },
      "source": [
        "#Column == 3 (Milk)\n",
        "(frame.boxplot(by ='cluster', column =[3], grid = False))"
      ],
      "execution_count": null,
      "outputs": [
        {
          "output_type": "execute_result",
          "data": {
            "text/plain": [
              "<matplotlib.axes._subplots.AxesSubplot at 0x2e5fffd20c8>"
            ]
          },
          "metadata": {
            "tags": []
          },
          "execution_count": 54
        },
        {
          "output_type": "display_data",
          "data": {
            "image/png": "[encoded data removed]",
            "text/plain": [
              "<Figure size 432x288 with 1 Axes>"
            ]
          },
          "metadata": {
            "tags": [],
            "needs_background": "light"
          }
        }
      ]
    },
    {
      "cell_type": "markdown",
      "metadata": {
        "id": "zywCZh5jeqER"
      },
      "source": [
        "While having a big range (cluster 5) we see that cluster 5 and cluster 3 are doing well in Milk"
      ]
    },
    {
      "cell_type": "code",
      "metadata": {
        "id": "1hxFr2XdeqER",
        "outputId": "9e0cc224-a2fd-4828-c72b-fa8bc96c84b3"
      },
      "source": [
        "#Column == 4 (Grocery)\n",
        "(frame.boxplot(by ='cluster', column =[4], grid = False))"
      ],
      "execution_count": null,
      "outputs": [
        {
          "output_type": "execute_result",
          "data": {
            "text/plain": [
              "<matplotlib.axes._subplots.AxesSubplot at 0x2e5800eb088>"
            ]
          },
          "metadata": {
            "tags": []
          },
          "execution_count": 55
        },
        {
          "output_type": "display_data",
          "data": {
            "image/png": "[encoded data removed]",
            "text/plain": [
              "<Figure size 432x288 with 1 Axes>"
            ]
          },
          "metadata": {
            "tags": [],
            "needs_background": "light"
          }
        }
      ]
    },
    {
      "cell_type": "markdown",
      "metadata": {
        "id": "mqiAMJmteqER"
      },
      "source": [
        "Cluster 5 and cluster 3 are also doing well in Grocery"
      ]
    },
    {
      "cell_type": "code",
      "metadata": {
        "id": "8-nsr6LBeqER",
        "outputId": "269a492f-7737-4cdd-f5eb-d34e78bd3067"
      },
      "source": [
        "#Column == 5 (Frozen)\n",
        "(frame.boxplot(by ='cluster', column =[5], grid = False))"
      ],
      "execution_count": null,
      "outputs": [
        {
          "output_type": "execute_result",
          "data": {
            "text/plain": [
              "<matplotlib.axes._subplots.AxesSubplot at 0x2e5ffee00c8>"
            ]
          },
          "metadata": {
            "tags": []
          },
          "execution_count": 56
        },
        {
          "output_type": "display_data",
          "data": {
            "image/png": "[encoded data removed]",
            "text/plain": [
              "<Figure size 432x288 with 1 Axes>"
            ]
          },
          "metadata": {
            "tags": [],
            "needs_background": "light"
          }
        }
      ]
    },
    {
      "cell_type": "markdown",
      "metadata": {
        "id": "RD9QE5YMeqES"
      },
      "source": [
        "Cluster 6 and cluster 3 are doing well in the case of Frozen"
      ]
    },
    {
      "cell_type": "code",
      "metadata": {
        "id": "JdEf4ztceqES",
        "outputId": "379e3de1-5ac0-447b-d0fc-40220cad3b25"
      },
      "source": [
        "#Column == 6 (Detergents_Paper)\n",
        "(frame.boxplot(by ='cluster', column =[6], grid = False))"
      ],
      "execution_count": null,
      "outputs": [
        {
          "output_type": "execute_result",
          "data": {
            "text/plain": [
              "<matplotlib.axes._subplots.AxesSubplot at 0x2e5ffc06d88>"
            ]
          },
          "metadata": {
            "tags": []
          },
          "execution_count": 57
        },
        {
          "output_type": "display_data",
          "data": {
            "image/png": "[encoded data removed]",
            "text/plain": [
              "<Figure size 432x288 with 1 Axes>"
            ]
          },
          "metadata": {
            "tags": [],
            "needs_background": "light"
          }
        }
      ]
    },
    {
      "cell_type": "markdown",
      "metadata": {
        "id": "opxgzBjbeqES"
      },
      "source": [
        "Cluster 5 is doing well in Detergents_Paper"
      ]
    },
    {
      "cell_type": "code",
      "metadata": {
        "id": "ZehaPqTzeqES",
        "outputId": "14fc6395-21e9-4c27-a3a3-7a30d5d68a31"
      },
      "source": [
        "#Column == 7 (Delicassen)\n",
        "(frame.boxplot(by ='cluster', column =[7], grid = False))"
      ],
      "execution_count": null,
      "outputs": [
        {
          "output_type": "execute_result",
          "data": {
            "text/plain": [
              "<matplotlib.axes._subplots.AxesSubplot at 0x2e5805653c8>"
            ]
          },
          "metadata": {
            "tags": []
          },
          "execution_count": 60
        },
        {
          "output_type": "display_data",
          "data": {
            "image/png": "[encoded data removed]",
            "text/plain": [
              "<Figure size 432x288 with 1 Axes>"
            ]
          },
          "metadata": {
            "tags": [],
            "needs_background": "light"
          }
        }
      ]
    },
    {
      "cell_type": "markdown",
      "metadata": {
        "id": "EwWTVcKIeqES"
      },
      "source": [
        "And lastly cluster 3 is doing the best in delicassen"
      ]
    },
    {
      "cell_type": "markdown",
      "metadata": {
        "id": "VH6zZt1JeqES"
      },
      "source": [
        "### Evaluation Measure: silhouette analysis"
      ]
    },
    {
      "cell_type": "code",
      "metadata": {
        "scrolled": true,
        "id": "pTneZLoDeqES",
        "outputId": "3b3f3dcd-5b35-4dba-bc89-a2cb6134ac68"
      },
      "source": [
        "from sklearn.datasets import make_blobs \n",
        "from sklearn.cluster import KMeans \n",
        "from sklearn.metrics import silhouette_score \n",
        "  \n",
        "# Generating the sample data from make_blobs \n",
        "  \n",
        "no_of_clusters = [2, 3, 4, 5, 6, 7, 8, 9, 10, 11, 12, 13, 14, 15] \n",
        "  \n",
        "for n_clusters in no_of_clusters: \n",
        "  \n",
        "    cluster = KMeans(n_clusters = n_clusters) \n",
        "    cluster_labels = cluster.fit_predict(data_scaled) \n",
        "  \n",
        "    # The silhouette_score gives the  \n",
        "    # average value for all the samples. \n",
        "    silhouette_avg = silhouette_score(data_scaled, cluster_labels) \n",
        "  \n",
        "    print(\"For no of clusters =\", n_clusters, \n",
        "          \" The average silhouette_score is :\", silhouette_avg) "
      ],
      "execution_count": null,
      "outputs": [
        {
          "output_type": "stream",
          "text": [
            "For no of clusters = 2  The average silhouette_score is : 0.37323636511581165\n",
            "For no of clusters = 3  The average silhouette_score is : 0.3567685389017652\n",
            "For no of clusters = 4  The average silhouette_score is : 0.3659611155778717\n",
            "For no of clusters = 5  The average silhouette_score is : 0.35721008796167153\n",
            "For no of clusters = 6  The average silhouette_score is : 0.3567871380525514\n",
            "For no of clusters = 7  The average silhouette_score is : 0.3613380457051018\n",
            "For no of clusters = 8  The average silhouette_score is : 0.36371309775006333\n",
            "For no of clusters = 9  The average silhouette_score is : 0.3671090215557249\n",
            "For no of clusters = 10  The average silhouette_score is : 0.34711139109448447\n",
            "For no of clusters = 11  The average silhouette_score is : 0.2799334296154532\n",
            "For no of clusters = 12  The average silhouette_score is : 0.29512490172256395\n",
            "For no of clusters = 13  The average silhouette_score is : 0.32029034560973385\n",
            "For no of clusters = 14  The average silhouette_score is : 0.3391891480468265\n",
            "For no of clusters = 15  The average silhouette_score is : 0.269544884933522\n"
          ],
          "name": "stdout"
        }
      ]
    },
    {
      "cell_type": "markdown",
      "metadata": {
        "id": "aOC3V-S3eqET"
      },
      "source": [
        "The evaluation measure silhouette analysis tells us that this group of data has a slight positive for similarity to its own cluster. The best clustering numbers to use is 2, 4, 7, 8, 9. They are all around 0.36-0.375"
      ]
    },
    {
      "cell_type": "markdown",
      "metadata": {
        "id": "OcoauuDMeqET"
      },
      "source": [
        "### 4.b) Agglomerative Hierarchical Clustering"
      ]
    },
    {
      "cell_type": "markdown",
      "metadata": {
        "id": "C6tfm7HqeqET"
      },
      "source": [
        "The evaluation measure from the K-Means left me with a question. Why are the best clustering numbers to use 2, 4, 7, 8, 9 when the elbow test looked like it needed to be between 6-9? I figured hierarchical data could show a bit more into what I was seeing. I found this resource below to help me through the code \n",
        "\n",
        "Resource: https://www.analyticsvidhya.com/blog/2019/05/beginners-guide-hierarchical-clustering/"
      ]
    },
    {
      "cell_type": "code",
      "metadata": {
        "id": "vcsbuI8DeqET"
      },
      "source": [
        "import pandas as pd\n",
        "import numpy as np\n",
        "import matplotlib.pyplot as plt\n",
        "%matplotlib inline"
      ],
      "execution_count": null,
      "outputs": []
    },
    {
      "cell_type": "markdown",
      "metadata": {
        "id": "1tnPKR8ueqET"
      },
      "source": [
        "The same techniques are involved just like in K-Means. We first have to preprocess the data. In this example we are going to normalize the data instead of standardize it. \n",
        "\n",
        "**Normalization** means to scale the variable to values between 0 and 1\n",
        "\n",
        "**Standardization** means to transform the data to have a mean of zero and a standard deviation of 1"
      ]
    },
    {
      "cell_type": "code",
      "metadata": {
        "id": "ModrnH79eqET",
        "outputId": "fcd9aae3-0b01-4c61-d7e4-246293fb7e58"
      },
      "source": [
        "from sklearn.preprocessing import normalize\n",
        "data_scaled = normalize(df)\n",
        "data_scaled = pd.DataFrame(data_scaled, columns=df.columns)\n",
        "data_scaled.head()"
      ],
      "execution_count": null,
      "outputs": [
        {
          "output_type": "execute_result",
          "data": {
            "text/html": [
              "<div>\n",
              "<style scoped>\n",
              "    .dataframe tbody tr th:only-of-type {\n",
              "        vertical-align: middle;\n",
              "    }\n",
              "\n",
              "    .dataframe tbody tr th {\n",
              "        vertical-align: top;\n",
              "    }\n",
              "\n",
              "    .dataframe thead th {\n",
              "        text-align: right;\n",
              "    }\n",
              "</style>\n",
              "<table border=\"1\" class=\"dataframe\">\n",
              "  <thead>\n",
              "    <tr style=\"text-align: right;\">\n",
              "      <th></th>\n",
              "      <th>Channel</th>\n",
              "      <th>Region</th>\n",
              "      <th>Fresh</th>\n",
              "      <th>Milk</th>\n",
              "      <th>Grocery</th>\n",
              "      <th>Frozen</th>\n",
              "      <th>Detergents_Paper</th>\n",
              "      <th>Delicassen</th>\n",
              "    </tr>\n",
              "  </thead>\n",
              "  <tbody>\n",
              "    <tr>\n",
              "      <td>0</td>\n",
              "      <td>0.000112</td>\n",
              "      <td>0.000168</td>\n",
              "      <td>0.708333</td>\n",
              "      <td>0.539874</td>\n",
              "      <td>0.422741</td>\n",
              "      <td>0.011965</td>\n",
              "      <td>0.149505</td>\n",
              "      <td>0.074809</td>\n",
              "    </tr>\n",
              "    <tr>\n",
              "      <td>1</td>\n",
              "      <td>0.000125</td>\n",
              "      <td>0.000188</td>\n",
              "      <td>0.442198</td>\n",
              "      <td>0.614704</td>\n",
              "      <td>0.599540</td>\n",
              "      <td>0.110409</td>\n",
              "      <td>0.206342</td>\n",
              "      <td>0.111286</td>\n",
              "    </tr>\n",
              "    <tr>\n",
              "      <td>2</td>\n",
              "      <td>0.000125</td>\n",
              "      <td>0.000187</td>\n",
              "      <td>0.396552</td>\n",
              "      <td>0.549792</td>\n",
              "      <td>0.479632</td>\n",
              "      <td>0.150119</td>\n",
              "      <td>0.219467</td>\n",
              "      <td>0.489619</td>\n",
              "    </tr>\n",
              "    <tr>\n",
              "      <td>3</td>\n",
              "      <td>0.000065</td>\n",
              "      <td>0.000194</td>\n",
              "      <td>0.856837</td>\n",
              "      <td>0.077254</td>\n",
              "      <td>0.272650</td>\n",
              "      <td>0.413659</td>\n",
              "      <td>0.032749</td>\n",
              "      <td>0.115494</td>\n",
              "    </tr>\n",
              "    <tr>\n",
              "      <td>4</td>\n",
              "      <td>0.000079</td>\n",
              "      <td>0.000119</td>\n",
              "      <td>0.895416</td>\n",
              "      <td>0.214203</td>\n",
              "      <td>0.284997</td>\n",
              "      <td>0.155010</td>\n",
              "      <td>0.070358</td>\n",
              "      <td>0.205294</td>\n",
              "    </tr>\n",
              "  </tbody>\n",
              "</table>\n",
              "</div>"
            ],
            "text/plain": [
              "    Channel    Region     Fresh      Milk   Grocery    Frozen  \\\n",
              "0  0.000112  0.000168  0.708333  0.539874  0.422741  0.011965   \n",
              "1  0.000125  0.000188  0.442198  0.614704  0.599540  0.110409   \n",
              "2  0.000125  0.000187  0.396552  0.549792  0.479632  0.150119   \n",
              "3  0.000065  0.000194  0.856837  0.077254  0.272650  0.413659   \n",
              "4  0.000079  0.000119  0.895416  0.214203  0.284997  0.155010   \n",
              "\n",
              "   Detergents_Paper  Delicassen  \n",
              "0          0.149505    0.074809  \n",
              "1          0.206342    0.111286  \n",
              "2          0.219467    0.489619  \n",
              "3          0.032749    0.115494  \n",
              "4          0.070358    0.205294  "
            ]
          },
          "metadata": {
            "tags": []
          },
          "execution_count": 141
        }
      ]
    },
    {
      "cell_type": "code",
      "metadata": {
        "id": "C4M9KRq3eqET",
        "outputId": "f31e5650-339f-491b-bb27-9f6e2035ec9c"
      },
      "source": [
        "import scipy.cluster.hierarchy as shc\n",
        "plt.figure(figsize=(10, 7))  \n",
        "plt.title(\"Dendrograms\")  \n",
        "dend = shc.dendrogram(shc.linkage(data_scaled, method='ward'))"
      ],
      "execution_count": null,
      "outputs": [
        {
          "output_type": "display_data",
          "data": {
            "image/png": "[encoded data removed]",
            "text/plain": [
              "<Figure size 720x504 with 1 Axes>"
            ]
          },
          "metadata": {
            "tags": [],
            "needs_background": "light"
          }
        }
      ]
    },
    {
      "cell_type": "markdown",
      "metadata": {
        "id": "FLXqA9MJeqEU"
      },
      "source": [
        "The x axis contains the samples and y axis represents the distance between these samples. We will add a horizontal line for a threshold of 6. "
      ]
    },
    {
      "cell_type": "code",
      "metadata": {
        "id": "-lnG523UeqEU",
        "outputId": "0deeba53-3a34-46af-be20-04773e390a0b"
      },
      "source": [
        "plt.figure(figsize=(10, 7))  \n",
        "plt.title(\"Dendrograms\")  \n",
        "dend = shc.dendrogram(shc.linkage(data_scaled, method='ward'))\n",
        "plt.axhline(y=6, color='r', linestyle='--')"
      ],
      "execution_count": null,
      "outputs": [
        {
          "output_type": "execute_result",
          "data": {
            "text/plain": [
              "<matplotlib.lines.Line2D at 0x2e584ccc908>"
            ]
          },
          "metadata": {
            "tags": []
          },
          "execution_count": 143
        },
        {
          "output_type": "display_data",
          "data": {
            "image/png": "[encoded data removed]",
            "text/plain": [
              "<Figure size 720x504 with 1 Axes>"
            ]
          },
          "metadata": {
            "tags": [],
            "needs_background": "light"
          }
        }
      ]
    },
    {
      "cell_type": "markdown",
      "metadata": {
        "id": "UwZzlYDReqEU"
      },
      "source": [
        "This leaves us with two clusters. Let us apply hierarchical clustering for 2 clusters."
      ]
    },
    {
      "cell_type": "code",
      "metadata": {
        "id": "pNDiUnM0eqEU"
      },
      "source": [
        "from sklearn.cluster import AgglomerativeClustering\n",
        "cluster = AgglomerativeClustering(n_clusters=2, affinity='euclidean', linkage='ward')  \n",
        "cluster_labels =cluster.fit_predict(data_scaled)"
      ],
      "execution_count": null,
      "outputs": []
    },
    {
      "cell_type": "code",
      "metadata": {
        "id": "eJjsZOeyeqEU",
        "outputId": "197d3fbf-a403-4f1c-e3cb-47ece93f4b64"
      },
      "source": [
        "silhouette_avg = silhouette_score(data_scaled, cluster_labels) \n",
        "print('silhouette score =',silhouette_avg)"
      ],
      "execution_count": null,
      "outputs": [
        {
          "output_type": "stream",
          "text": [
            "silhouette score = 0.49090467744510174\n"
          ],
          "name": "stdout"
        }
      ]
    },
    {
      "cell_type": "code",
      "metadata": {
        "id": "sZcoMWWpeqEU",
        "outputId": "52299649-de8a-4aa5-d2fa-69c3aa314558"
      },
      "source": [
        "plt.figure(figsize=(10, 7))  \n",
        "plt.xlabel(\"Milk_Normalized\")\n",
        "plt.ylabel(\"Grocery_Normalized\")\n",
        "plt.scatter(data_scaled['Milk'], data_scaled['Grocery'], c=cluster.labels_) "
      ],
      "execution_count": null,
      "outputs": [
        {
          "output_type": "execute_result",
          "data": {
            "text/plain": [
              "<matplotlib.collections.PathCollection at 0x2e58ab7d088>"
            ]
          },
          "metadata": {
            "tags": []
          },
          "execution_count": 224
        },
        {
          "output_type": "display_data",
          "data": {
            "image/png": "[encoded data removed]",
            "text/plain": [
              "<Figure size 720x504 with 1 Axes>"
            ]
          },
          "metadata": {
            "tags": [],
            "needs_background": "light"
          }
        }
      ]
    },
    {
      "cell_type": "markdown",
      "metadata": {
        "id": "1sLge3W9eqEV"
      },
      "source": [
        "We can clearly see the two clusters between milk and grocery"
      ]
    },
    {
      "cell_type": "code",
      "metadata": {
        "id": "ew1S23h8eqEV",
        "outputId": "bc693abb-89a6-4621-e341-31e6e0e8923d"
      },
      "source": [
        "plt.figure(figsize=(10, 7))  \n",
        "plt.xlabel(\"Milk_Normalized\")\n",
        "plt.ylabel(\"Frozen_Normalized\")\n",
        "plt.scatter(data_scaled['Milk'], data_scaled['Frozen'], c=cluster.labels_) "
      ],
      "execution_count": null,
      "outputs": [
        {
          "output_type": "execute_result",
          "data": {
            "text/plain": [
              "<matplotlib.collections.PathCollection at 0x2e58a6ba808>"
            ]
          },
          "metadata": {
            "tags": []
          },
          "execution_count": 206
        },
        {
          "output_type": "display_data",
          "data": {
            "image/png": "[encoded data removed]",
            "text/plain": [
              "<Figure size 720x504 with 1 Axes>"
            ]
          },
          "metadata": {
            "tags": [],
            "needs_background": "light"
          }
        }
      ]
    },
    {
      "cell_type": "markdown",
      "metadata": {
        "id": "ua-Bb-veeqEV"
      },
      "source": [
        "In this example you can see that there are two clusters but they overlap a bit."
      ]
    },
    {
      "cell_type": "markdown",
      "metadata": {
        "id": "rpRlMJP9eqEV"
      },
      "source": [
        "#### Thoughts:\n",
        "By using Agglomerative Hierarchical Clustering we can clearly see the biggest difference (longest vertical line) between potential groups is the first split top to bottom (blue line) in the dendrogram. \n",
        "\n",
        "Agglomerative heirarchical clustering with 2 clusters clearly shows the two seperate clusters with a bit of overlap when comparing certain features. \n",
        "\n"
      ]
    },
    {
      "cell_type": "markdown",
      "metadata": {
        "id": "k5x2xkf3eqEV"
      },
      "source": [
        "### 4.c) DBSCAN"
      ]
    },
    {
      "cell_type": "markdown",
      "metadata": {
        "id": "yd5cY1VfeqEW"
      },
      "source": [
        "Using the same normalized data I am going to use DBSCAN to analyze and cluster the data. "
      ]
    },
    {
      "cell_type": "code",
      "metadata": {
        "id": "IIt7C0M_eqEW",
        "outputId": "791a4353-384f-4fdf-9d05-fba3677c829d"
      },
      "source": [
        "\n",
        "import numpy as np\n",
        "from sklearn.cluster import DBSCAN\n",
        "from sklearn import metrics\n",
        "from sklearn.datasets import make_blobs\n",
        "from sklearn.preprocessing import StandardScaler\n",
        "from sklearn.preprocessing import normalize\n",
        "\n",
        "\n",
        "data_scaled = normalize(df)\n",
        "data_scaled = pd.DataFrame(data_scaled, columns=df.columns)\n",
        "\n",
        "\n",
        "# Compute DBSCAN\n",
        "db = DBSCAN(eps= 0.3, min_samples=15).fit(data_scaled)\n",
        "core_samples_mask = np.zeros_like(db.labels_, dtype=bool)\n",
        "core_samples_mask[db.core_sample_indices_] = True\n",
        "labels = db.labels_\n",
        "\n",
        "# Number of clusters in labels, ignoring noise if present.\n",
        "n_clusters_ = len(set(labels)) - (1 if -1 in labels else 0)\n",
        "n_noise_ = list(labels).count(-1)\n",
        "\n",
        "print('Estimated number of clusters: %d' % n_clusters_)\n",
        "print('Estimated number of noise points: %d' % n_noise_)\n",
        "print(\"Silhouette Coefficient: %0.3f\"\n",
        "      % metrics.silhouette_score(data_scaled, labels))\n",
        "\n",
        "# #############################################################################\n",
        "# Plot result\n",
        "import matplotlib.pyplot as plt\n",
        "\n",
        "# Black removed and is used for noise instead.\n",
        "unique_labels = set(labels)\n",
        "colors = [plt.cm.Spectral(each)\n",
        "          for each in np.linspace(0, 1, len(unique_labels))]\n",
        "for k, col in zip(unique_labels, colors):\n",
        "    if k == -1:\n",
        "        # Black used for noise.\n",
        "        col = [0, 0, 0, 1]\n",
        "\n",
        "    class_member_mask = (labels == k)\n",
        "\n",
        "    xy = data_scaled[class_member_mask & core_samples_mask]\n",
        "    plt.plot(xy.iloc[:, 0], xy.iloc[:, 1], 'o', markerfacecolor=tuple(col),\n",
        "             markeredgecolor='k', markersize=14)\n",
        "\n",
        "    xy = data_scaled[class_member_mask & ~core_samples_mask]\n",
        "    plt.plot(xy.iloc[:, 0], xy.iloc[:, 1], 'o', markerfacecolor=tuple(col),\n",
        "             markeredgecolor='k', markersize=6)\n",
        "\n",
        "plt.title('Estimated number of clusters: %d' % n_clusters_)\n",
        "plt.show()"
      ],
      "execution_count": null,
      "outputs": [
        {
          "output_type": "stream",
          "text": [
            "Estimated number of clusters: 1\n",
            "Estimated number of noise points: 28\n",
            "Silhouette Coefficient: 0.196\n"
          ],
          "name": "stdout"
        },
        {
          "output_type": "display_data",
          "data": {
            "image/png": "[encoded data removed]",
            "text/plain": [
              "<Figure size 432x288 with 1 Axes>"
            ]
          },
          "metadata": {
            "tags": [],
            "needs_background": "light"
          }
        }
      ]
    },
    {
      "cell_type": "markdown",
      "metadata": {
        "id": "aL_3OyxeeqEW"
      },
      "source": [
        "### Initial Thoughts:\n",
        "I am not entirely sure why it only estimates 1 cluster. Maybe this method is not a good choice for this data. More likely is that I did not use the model correctly. I am leaning towards the latter since it should have identified the outliers at least.  "
      ]
    },
    {
      "cell_type": "markdown",
      "metadata": {
        "id": "-YnA2dQveqEW"
      },
      "source": [
        "## 5. Conclusions:"
      ]
    },
    {
      "cell_type": "markdown",
      "metadata": {
        "id": "fR_pgR2weqEX"
      },
      "source": [
        "The data set is from a wholesale distributor. The rows are customers. Originally the dataset has 8 features: Fresh, Milk, Grocery, Frozen, Detergents, Delicatessen, Channel, and Region. We know the two variables Channel and Region are nominal values to describe the customer and should be taken out of the statistical analysis of the data. The rest of the variables are continuous and represent the money spent by each cutomer to buy that item from the wholesale distributor. Since the data is has verying magnitudes for the numbers we need to do a bit of preprocessing before diving into the unsupervised models. \n",
        "\n",
        "When running K-Means Clustering on the data set we opted to standardize the data. The amount of clusters was determined first by the elbow method, or the inertia at varying k clusters. The elbow method shows that a k of 5-9 clusters will describe a good portion of the variance. We chose 7 clusters and found the following sillhouette coefficients: \n",
        "\n",
        "For no of clusters = 2  The average silhouette_score is : 0.37323636511581165\n",
        "\n",
        "For no of clusters = 3  The average silhouette_score is : 0.3567685389017652\n",
        "\n",
        "For no of clusters = 4  The average silhouette_score is : 0.3659611155778717\n",
        "\n",
        "For no of clusters = 5  The average silhouette_score is : 0.35721008796167153\n",
        "\n",
        "For no of clusters = 6  The average silhouette_score is : 0.3567871380525514\n",
        "\n",
        "For no of clusters = 7  The average silhouette_score is : 0.3613380457051018\n",
        "\n",
        "For no of clusters = 8  The average silhouette_score is : 0.36371309775006333\n",
        "\n",
        "For no of clusters = 9  The average silhouette_score is : 0.3671090215557249\n",
        "\n",
        "For no of clusters = 10  The average silhouette_score is : 0.34711139109448447\n",
        "\n",
        "These scores show that 2, 4, 7, 8, 9 clusters are ideal in this standardized data set. \n",
        "\n",
        "**What do the clusters mean exactly?**\n",
        "\n",
        "Each cluster is identifying a group or customers that can be identified by the Channel and Region. Each cluster has their own spending habits for the 6 variables: Fresh, Milk, Grocery, Frozen, Detergents, Delicatessen. When we are performing this clustering on this data set, we are identifying who is most likely to buy what. \n",
        "\n",
        "The previous silhouette scores left me a bit confused. Why is 2 clusters an option if it wasn't in the elbow method range? I decided that the best way to see why this is, is by using Agglomerative Hierarchical Clustering. The heights on the dendrograms will show me the biggest differences between clusters. We normalized the original data this time to create a dendrogram. The last two clusters (blue line) show the biggest difference between two clusters. This is why the silhouette score came out the way it did. To visualize this further we ran the Agglomerative Hierarchical Clustering on the normalized data and plotted it out onto a scatterplot. There are two examples of clustering between the variables milk and grocery and milk and frozen. We can clearly see the clusters even if they overlap with certain pairs of variables. To invesitgate this further we might run a correlation plot between all the variables. This might give more insight into which pairs will ahve distinct clustering. \n",
        "\n",
        "We ran one last test on the data that didn't work as well. When running the DBSCAN which works with densities we had an ouput of only one cluster. I think this was just implemented wrong. I feel there should have at least been some outliers identified  during this model. \n",
        "\n",
        "#### In Conclusion:\n",
        "I could see this being applied to finding which particular clusters (groups of customers based on location and channel) buy what things so the wholesale distributor can better sell their product. Currently with the work that I have done. I would use the Agglomerative Hierarchical Clustering to determine the groups since they seemed to be giving the highest silhouette score.\n",
        "\n",
        "K-Means: clusters = 7, average silhouette score is : 0.3613380457051018\n",
        "\n",
        "Agglomerative Hierarchical: clusters = 2, average silhouette score is : 0.49090467744510174\n",
        "\n",
        "DBSCAN: clusters = 1, average silhouette score is : 0.196\n",
        "\n",
        "#### Further Research:\n",
        "I would like to be able to visualize more of the scatter plots. I was having some trouble while doing this. This would have given me a bit more intuition when looking at the data. \n",
        "\n",
        "I also need to re-look up the difference between standardization and normalization. Especially when to use either one.\n",
        "\n",
        "Once, I ahve the models correctly built and the clusters chosen correctly it would be a pretty good idea to incorporate the channel and distance back into the models somehow. Showing grouping by region would be a good feature that would be important to a company. "
      ]
    }
  ]
}