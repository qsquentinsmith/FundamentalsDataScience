{
  "nbformat": 4,
  "nbformat_minor": 0,
  "metadata": {
    "kernelspec": {
      "display_name": "Python 3",
      "language": "python",
      "name": "python3"
    },
    "colab": {
      "name": "Clustering.ipynb",
      "provenance": []
    }
  },
  "cells": [
    {
      "cell_type": "markdown",
      "metadata": {
        "id": "U-VZ8dv-pyP9"
      },
      "source": [
        "# In Class 9: Clustering\n"
      ]
    },
    {
      "cell_type": "markdown",
      "metadata": {
        "id": "nRp5NsnEpyQC"
      },
      "source": [
        "### Name: Quentin Smith\n",
        "### Due Date: March 29th 11:59pm"
      ]
    },
    {
      "cell_type": "markdown",
      "metadata": {
        "id": "ZGy_NQaLpyQC"
      },
      "source": [
        "## 1. Data:"
      ]
    },
    {
      "cell_type": "code",
      "metadata": {
        "id": "juynpS0YpyQC"
      },
      "source": [
        "import pandas as pd\n",
        "import matplotlib.pyplot as plt\n",
        "from sklearn.cluster import KMeans"
      ],
      "execution_count": null,
      "outputs": []
    },
    {
      "cell_type": "code",
      "metadata": {
        "id": "GwWXtpJipyQD",
        "outputId": "fb1f88e2-de91-4e28-e74c-ce1c1b2a236d"
      },
      "source": [
        "#let’s make some data to start\n",
        "Data = {'x': [25,34,22,27,33,33,31,22,35,34,67,54,57,43,50,57,59,52,65,47,49,48,35,33,44,45,38,43,51,46],\n",
        "        'y': [79,51,53,78,59,74,73,57,69,75,51,32,40,47,53,36,35,58,59,50,25,20,14,12,20,5,29,27,8,7]\n",
        "       }\n",
        "  \n",
        "df = pd.DataFrame(Data,columns=['x','y'])\n",
        "print (df)\n"
      ],
      "execution_count": null,
      "outputs": [
        {
          "output_type": "stream",
          "text": [
            "     x   y\n",
            "0   25  79\n",
            "1   34  51\n",
            "2   22  53\n",
            "3   27  78\n",
            "4   33  59\n",
            "5   33  74\n",
            "6   31  73\n",
            "7   22  57\n",
            "8   35  69\n",
            "9   34  75\n",
            "10  67  51\n",
            "11  54  32\n",
            "12  57  40\n",
            "13  43  47\n",
            "14  50  53\n",
            "15  57  36\n",
            "16  59  35\n",
            "17  52  58\n",
            "18  65  59\n",
            "19  47  50\n",
            "20  49  25\n",
            "21  48  20\n",
            "22  35  14\n",
            "23  33  12\n",
            "24  44  20\n",
            "25  45   5\n",
            "26  38  29\n",
            "27  43  27\n",
            "28  51   8\n",
            "29  46   7\n"
          ],
          "name": "stdout"
        }
      ]
    },
    {
      "cell_type": "markdown",
      "metadata": {
        "id": "9E5BdCBfpyQF"
      },
      "source": [
        "## 2. Model: "
      ]
    },
    {
      "cell_type": "code",
      "metadata": {
        "id": "VbT7BOvIpyQF",
        "outputId": "85d1eae7-b9a1-4fb2-ebb5-2850e988ff71"
      },
      "source": [
        "#first let’s fit s kmeans model based on a ‘k’ that you input yourself\n",
        "kmeans = KMeans(n_clusters=19).fit(df)\n",
        "\n",
        "centroids = kmeans.cluster_centers_\n",
        "print(centroids)\n",
        "\n",
        "plt.scatter(df['x'], df['y'], c= kmeans.labels_.astype(float), s=50, alpha=0.5)\n",
        "plt.scatter(centroids[:, 0], centroids[:, 1], c='red', s=50)\n",
        "\n",
        "\n",
        "# inertia on the fitted data\n",
        "kmeans.inertia_\n"
      ],
      "execution_count": null,
      "outputs": [
        {
          "output_type": "stream",
          "text": [
            "[[38.         29.        ]\n",
            " [32.66666667 74.        ]\n",
            " [67.         51.        ]\n",
            " [45.5         6.        ]\n",
            " [43.         47.        ]\n",
            " [57.66666667 37.        ]\n",
            " [22.         55.        ]\n",
            " [47.         21.66666667]\n",
            " [52.         58.        ]\n",
            " [33.         59.        ]\n",
            " [34.         13.        ]\n",
            " [26.         78.5       ]\n",
            " [34.         51.        ]\n",
            " [65.         59.        ]\n",
            " [54.         32.        ]\n",
            " [43.         27.        ]\n",
            " [48.5        51.5       ]\n",
            " [35.         69.        ]\n",
            " [51.          8.        ]]\n"
          ],
          "name": "stdout"
        },
        {
          "output_type": "execute_result",
          "data": {
            "text/plain": [
              "80.0"
            ]
          },
          "metadata": {
            "tags": []
          },
          "execution_count": 39
        },
        {
          "output_type": "display_data",
          "data": {
            "image/png": "[encoded data removed]",
            "text/plain": [
              "<Figure size 432x288 with 1 Axes>"
            ]
          },
          "metadata": {
            "tags": [],
            "needs_background": "light"
          }
        }
      ]
    },
    {
      "cell_type": "markdown",
      "metadata": {
        "id": "PsPP8YOUpyQG"
      },
      "source": [
        "**Question: Is this good?  Why or why not?  Play with the number of clusters till you find the “ideal” inertia.  Is it better to have a lower or higher inerntia?**\n",
        "\n",
        "Answer: The inertia I got with five clusters is 1951.20. From the resource below it says the lower the number the better with the ideal number being 0. The higher the number of clusters the closer it gets to 0. The inertia is 0 at 30 because there is only 30 data points and we have clustered each point into their own section. \n",
        "\n",
        "Resource: https://scikit-learn.org/stable/modules/clustering.html\n"
      ]
    },
    {
      "cell_type": "code",
      "metadata": {
        "id": "OX1l-ezFpyQG",
        "outputId": "5f43f1c0-2001-4d33-bce5-44f457265942"
      },
      "source": [
        "#ok now let’s find the ideal number of clusters (or k) by looking at a silhouette graph\n",
        "\n",
        "pred = kmeans.fit_predict(df)\n",
        "\n",
        "from sklearn.metrics import silhouette_score\n",
        "\n",
        "score = silhouette_score(df, pred, random_state=1)\n",
        "score\n",
        "\n"
      ],
      "execution_count": null,
      "outputs": [
        {
          "output_type": "execute_result",
          "data": {
            "text/plain": [
              "0.4829240712032056"
            ]
          },
          "metadata": {
            "tags": []
          },
          "execution_count": 24
        }
      ]
    },
    {
      "cell_type": "markdown",
      "metadata": {
        "id": "AglW4vJnpyQG"
      },
      "source": [
        "Resource for Silhoute Graph: https://scikit-learn.org/stable/modules/generated/sklearn.metrics.silhouette_score.html\n",
        "\n",
        "Summary: The best value is 1 and the worst is -1. Values near 0 mean overlapping clusters. Negative values generally indicate that a sample has been assigned to the wrong cluster, as a different cluster is more similar. \n",
        "\n",
        "So the above silhoute graph says that 5 clusters is good but not great."
      ]
    },
    {
      "cell_type": "code",
      "metadata": {
        "id": "BNnMFLJHpyQG"
      },
      "source": [
        "# fitting multiple k-means algorithms and storing the values in an empty list\n",
        "SSE = []\n",
        "for cluster in range(6,20):\n",
        "    kmeans = KMeans(n_jobs = -1, n_clusters = cluster, init='k-means++')\n",
        "    kmeans.fit(df)\n",
        "    SSE.append(kmeans.inertia_)\n"
      ],
      "execution_count": null,
      "outputs": []
    },
    {
      "cell_type": "code",
      "metadata": {
        "id": "SKyeARU6pyQH",
        "outputId": "6682dd82-fb77-4192-fe79-b8a670970c13"
      },
      "source": [
        "# converting the results into a dataframe and plotting them\n",
        "frame = pd.DataFrame({'Cluster':range(6,20), 'SSE':SSE})\n",
        "plt.figure(figsize=(12,6))\n",
        "plt.plot(frame['Cluster'], frame['SSE'], marker='o')\n",
        "plt.xlabel('Number of clusters')\n",
        "plt.ylabel('Inertia')\n"
      ],
      "execution_count": null,
      "outputs": [
        {
          "output_type": "execute_result",
          "data": {
            "text/plain": [
              "Text(0, 0.5, 'Inertia')"
            ]
          },
          "metadata": {
            "tags": []
          },
          "execution_count": 36
        },
        {
          "output_type": "display_data",
          "data": {
            "image/png": "[encoded data removed]",
            "text/plain": [
              "<Figure size 864x432 with 1 Axes>"
            ]
          },
          "metadata": {
            "tags": [],
            "needs_background": "light"
          }
        }
      ]
    },
    {
      "cell_type": "markdown",
      "metadata": {
        "id": "VwZolFL6pyQH"
      },
      "source": [
        "**Question: What are the ideal number of clusters and why?  Check the SSE (Sum of squared errors) and Elbow method**\n",
        "\n",
        "Answer: Since the Y axis is so large it is hard to tell. I would say the elbow is at 2.7 or so but the inertia is still very high. To deal with this I played around with the graph and changed the range. When you change it to range 6 through 20 we see a little bit more representative of that portion instead of a straight line. I would say that around 8 clusters seems a reasonable guess. From eight on the drop in inertia when adding clusters is less than 100-150. \n",
        "\n",
        "Resource: https://towardsdatascience.com/k-means-clustering-with-scikit-learn-6b47a369a83c\n"
      ]
    },
    {
      "cell_type": "code",
      "metadata": {
        "id": "isfrwOuApyQH",
        "outputId": "41633b51-e57f-44c9-f14f-9f95367ce793"
      },
      "source": [
        "#OK! Now let’s try another type of clustering algorithm - hierarchical clustering\n",
        "import scipy.cluster.hierarchy as shc\n",
        "plt.figure(figsize=(10, 7))  \n",
        "plt.title(\"Dendrograms\")  \n",
        "dend = shc.dendrogram(shc.linkage(df, method='ward'))\n"
      ],
      "execution_count": null,
      "outputs": [
        {
          "output_type": "display_data",
          "data": {
            "image/png": "[encoded data removed]",
            "text/plain": [
              "<Figure size 720x504 with 1 Axes>"
            ]
          },
          "metadata": {
            "tags": [],
            "needs_background": "light"
          }
        }
      ]
    },
    {
      "cell_type": "markdown",
      "metadata": {
        "id": "GYbES4y0pyQH"
      },
      "source": [
        "**Question: How many clusters should we have?**\n",
        "\n",
        "The resource states that it is a mistake to use dendrograms as a tool for determining the number of clusters in data. But as the graph suggests there are 19 clusters. \n",
        "\n",
        "Resource: https://www.displayr.com/what-is-dendrogram/\n"
      ]
    },
    {
      "cell_type": "code",
      "metadata": {
        "id": "CbC2ZmSPpyQI",
        "outputId": "0668d751-5cb9-4229-c305-62e348c2e9c7"
      },
      "source": [
        "#using this code insert a value into the y value that you think should have\n",
        "plt.axhline(y=19, color='r', linestyle='--')\n",
        "\n",
        "# Not entirely sure what to do with this code."
      ],
      "execution_count": null,
      "outputs": [
        {
          "output_type": "execute_result",
          "data": {
            "text/plain": [
              "<matplotlib.lines.Line2D at 0x15ee4f94948>"
            ]
          },
          "metadata": {
            "tags": []
          },
          "execution_count": 38
        },
        {
          "output_type": "display_data",
          "data": {
            "image/png": "[encoded data removed]",
            "text/plain": [
              "<Figure size 432x288 with 1 Axes>"
            ]
          },
          "metadata": {
            "tags": [],
            "needs_background": "light"
          }
        }
      ]
    },
    {
      "cell_type": "markdown",
      "metadata": {
        "id": "zj9IAUhbpyQI"
      },
      "source": [
        "**Question: What did you learn from this exercise?**\n",
        "\n",
        "I learned terms associated to clustering such as inertia, silhoute graph, and dendrograms. I learned how they all relate and how to use each tool in deciding the k value or discerning how well my clustering model performed. I learned about dendograms and how heirachy outputs have unseen information like the lengths of the lines or heights of the lines.  \n",
        "\n",
        "**Question: What is the benefit of kmeans?  What is the downside?**\n",
        "\n",
        "The kmeans usecase is general purpose, even cluster size, flat geometry, not too many clusters. This fits our generated data.\n",
        "\n",
        "Some benefits are\n",
        "- Scales well to large number of samples\n",
        "- Easy to interpret the clustering results\n",
        "- Guaranteed convergence\n",
        "- Easily adapts to new examples\n",
        "- Fast and efficient (linear time complexity).\n",
        "\n",
        "Some downsides are \n",
        "\n",
        "- Inertia is not a normalized metric and inver high dimensional spaces, the Euclidean distances tend to become inflated (can be solved with PCA)\n",
        "- Sensitive to outliers\n",
        "- Hard time with data of varying sizes and densities\n",
        "- K not known and needs to be found\n",
        "\n",
        "Resources: https://developers.google.com/machine-learning/clustering/algorithm/advantages-disadvantages\n",
        "\n",
        "\n",
        "**Question: What is the benefit of hierarchical clustering?  What is the downside?**\n",
        "\n",
        "Benefits:\n",
        "\n",
        "- Easy to implement\n",
        "- Heirarchy output is informative\n",
        "\n",
        "Downsides:\n",
        "\n",
        "- Not able to undo previous step\n",
        "- Time complexity is not suitable for large data\n",
        "- Intial seed has a strong impact on how it will turn out\n",
        "- The order of the data has an impact on the final output\n",
        "- Very sensitive to outliers\n",
        "\n",
        "Resources: http://santini.se/teaching/ml/2016/Lect_10/10c_UnsupervisedMethods.pdf"
      ]
    },
    {
      "cell_type": "markdown",
      "metadata": {
        "id": "WQiFNg64pyQI"
      },
      "source": [
        "## 3. BONUS"
      ]
    },
    {
      "cell_type": "code",
      "metadata": {
        "id": "3h8G-ulGpyQI",
        "outputId": "ce1499f1-b9fd-48c4-8116-fd2e268641f7"
      },
      "source": [
        "#Mean-Shift Clustering\n",
        "\n",
        "\n",
        "\n",
        "from sklearn.cluster import MeanShift, estimate_bandwidth\n",
        "import numpy as np\n",
        "\n",
        "# Compute clustering with MeanShift\n",
        "\n",
        "# The following bandwidth can be automatically detected using\n",
        "bandwidth = estimate_bandwidth(df, quantile=0.2, n_samples=30)\n",
        "print(bandwidth)\n",
        "\n",
        "ms = MeanShift(bandwidth=bandwidth, bin_seeding=True).fit(df)\n",
        "\n",
        "ms.fit(df)\n",
        "labels = ms.labels_\n",
        "cluster_centers = ms.cluster_centers_\n",
        "\n",
        "labels_unique = np.unique(labels)\n",
        "n_clusters_ = len(labels_unique)\n",
        "\n",
        "print(\"number of estimated clusters : %d\" % n_clusters_)"
      ],
      "execution_count": null,
      "outputs": [
        {
          "output_type": "stream",
          "text": [
            "14.524008388825298\n",
            "number of estimated clusters : 5\n"
          ],
          "name": "stdout"
        }
      ]
    },
    {
      "cell_type": "code",
      "metadata": {
        "id": "QtAVgR7bpyQI",
        "outputId": "31351822-3ff2-4cc4-878c-d06885232802"
      },
      "source": [
        "# Plot result\n",
        "\n",
        "import matplotlib.pyplot as plt\n",
        "from itertools import cycle\n",
        "\n",
        "plt.figure(1)\n",
        "plt.clf()\n",
        "\n",
        "\n",
        "colors = cycle('bgrcmykbgrcmykbgrcmykbgrcmyk')\n",
        "for k, col in zip(range(n_clusters_), colors):\n",
        "    my_members = labels == k\n",
        "    cluster_center = cluster_centers[k]\n",
        "    plt.plot(df[my_members, 0], df[my_members, 1], col + '.')\n",
        "    plt.plot(cluster_center[0], cluster_center[1], 'o', markerfacecolor=col,\n",
        "             markeredgecolor='k', markersize=14)\n",
        "plt.title('Estimated number of clusters: %d' % n_clusters_)\n",
        "plt.show()"
      ],
      "execution_count": null,
      "outputs": [
        {
          "output_type": "display_data",
          "data": {
            "image/png": "[encoded data removed]",
            "text/plain": [
              "<Figure size 432x288 with 1 Axes>"
            ]
          },
          "metadata": {
            "tags": [],
            "needs_background": "light"
          }
        }
      ]
    },
    {
      "cell_type": "markdown",
      "metadata": {
        "id": "YKJSLG_hpyQJ"
      },
      "source": [
        "## Conclusion:\n",
        "\n",
        "**Question: Develop a new clustering model to cluster our dataset.  Did you you identify the same number of clusters?**\n",
        "\n",
        "I used mean-shift clustering. I did not identify the same number of clusters. In mean shift you have to set a bandwidth. The bandwidth for mean-shift clustering is the distance/size scale of the kernal function and there is no bandwidth that works well for every instance. After further research I found that python sklearn offers an estimate_bandwidth function based on nearest- neighbor analysis. \n",
        "\n",
        "Using estimate_bandiwidth I get a bandwidth of 14.52 which results in five clusters. There is a graph to show how the clustering took place. \n",
        "\n",
        "Types of clustering:\n",
        "1. Original elbow method (range 1-20) - 5 clusters\n",
        "2. Elbow Method (range 6-20) - about 8 clusters\n",
        "3. Hierarchical clustering - 19 clusters\n",
        "4. Mean-Shift Clustering - 5 clusters\n",
        "\n",
        "\n",
        "Resources: https://scikit-learn.org/stable/modules/generated/sklearn.cluster.MeanShift.html"
      ]
    }
  ]
}